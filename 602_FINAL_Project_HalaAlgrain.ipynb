{
 "cells": [
  {
   "cell_type": "markdown",
   "id": "b80f5f4a",
   "metadata": {},
   "source": [
    "# CMS Readmission Rates"
   ]
  },
  {
   "cell_type": "markdown",
   "id": "4e0d0ca1",
   "metadata": {},
   "source": [
    "**DATA602 Final Project**\n",
    "\n",
    "**Student:** Hala Algrain"
   ]
  },
  {
   "cell_type": "markdown",
   "id": "b2e06576",
   "metadata": {},
   "source": [
    "## Introduction"
   ]
  },
  {
   "cell_type": "markdown",
   "id": "312de199",
   "metadata": {},
   "source": [
    "The Hospital Readmissions Reduction Program (HRRP) is a Centers for Medicare and Medicaid Services (CMS) value-based purchasing program that aims to reduce readmission rates in 6 target conditions. [1]\n",
    "\n",
    "1. Acute mycardial infarction (ami)\n",
    "2. Pneumonia (pn)\n",
    "3. Heart failure (hf)\n",
    "4. Chronic obstructive pulmondary disease (copd)\n",
    "5. Coronary artery bypass graft(cabg)\n",
    "6. Total knee and hip arthroplastry (hka)\n",
    "\n",
    "Most hospitals who treat a certain number of patients with these conditions must report their 30-day readmission rates to CMS. The worst performing hospitals are penalized via reduced payments. \n",
    "\n",
    "The HRRP program beganin 2012 with ami, pn, and hf. In 2015, copd was added. In 2017, cabg and hka were added to the program.\n",
    "\n",
    "The HRRP uses the Excess Readmission Ratio (ERR) to assess a hospital's performance. ERRs below 1 show a less than average readmission rate while ERRs above 1 demonstrate a greater than average readmission rate. The higher the ERR the worse the hospital is doing."
   ]
  },
  {
   "cell_type": "markdown",
   "id": "bcf342df",
   "metadata": {},
   "source": [
    "## Problem Statement"
   ]
  },
  {
   "cell_type": "markdown",
   "id": "e0acf3a8",
   "metadata": {},
   "source": [
    "Reporting quality measures is very costly with an annual cost of over $15 billion [2]. While the HRRP has successfully reduced readmissions, these reductions are variable acroos hospital and patient population groups; hospitals serving the most vulnerable patients often are penalized the most and have the least amount of improvement. [3] There is also evidence that the HRRP program is associated with increased mortality for heart failure and pneumonia [4]. \n",
    "\n",
    "Pneumonia in particular is a broad diagnostic label that can encompass a variety of acute and chronic causes e.g. bacterial infection versus post covid-19 pneumonia. Further bringing into question the utlity of how well hospitals can influence change in response to their performance metrics."
   ]
  },
  {
   "cell_type": "markdown",
   "id": "795ae65a",
   "metadata": {},
   "source": [
    "## Data Description"
   ]
  },
  {
   "cell_type": "markdown",
   "id": "4a4281e1",
   "metadata": {},
   "source": [
    "The dataset sources:\n",
    "1. ERRs from CMS' HRRP Program [1]\n",
    "2. Demographic information from Census Bureau’s Geocoder API [5]\n",
    "3. Medicaid expansion status from Kaiser Family Foundation [6]"
   ]
  },
  {
   "cell_type": "markdown",
   "id": "a645e5ca",
   "metadata": {},
   "source": [
    "Data dictionary for final model:\n",
    "\n",
    "- `'hospital_ccn'` unique hospital identifier\n",
    "- `'cms_region_code'` 1 out of 10 regional US areas *Evidence they have outcome differences.*\n",
    "- `'ownership_nonprofit'` binary variable if the hospital operates as a non-profit\n",
    "- `'ownership_government'` binary variable if the hospital is operated by the government\n",
    "- `'ownership_forprofit'` binary variable if the hospital operates as a for-profit\n",
    "- `'teaching_hospital'` binary variable for hospitals academic teaching status\n",
    "- `'expanded_2014'` whether a hospital expanded their Medicaid eligibility in 2014 under the ACA\n",
    "- `'ruca'` Rural-Urban Commuting Area designation code of the corresponding census tract\n",
    "- `'beds'` number of beds\n",
    "- `'cah'` critical access hospital\n",
    "- `'per_cap_inc'` per capita income of the corresponding census tract\n",
    "- `'unemployment'` percentage of unemployed in the corresponding census tract\n",
    "- `'black'` percentage of black people in the corresponding census tract\n",
    "- `'asian'` percentage of asian people in the corresponding census tract\n",
    "- `'hispanic'` percentage of hispanic people in the corresponding census tract\n",
    "- `'err_for_ami'` excess readmission ratio for ami\n",
    "- `'err_for_hf'` excess readmission ratio for hf\n",
    "- `'err_for_hka'` excess readmission ratio for hka\n",
    "- `'err_for_copd'` excess readmission ratio for copd\n",
    "- `'err_for_cabg'` excess readmission ratio for cabg\n",
    "- `'binary_pn'` binarized variable of `err_for_pneumonia`"
   ]
  },
  {
   "cell_type": "markdown",
   "id": "a163e72c",
   "metadata": {},
   "source": [
    "## Analysis Goal"
   ]
  },
  {
   "cell_type": "markdown",
   "id": "74a66dcf",
   "metadata": {},
   "source": [
    "The target outcome is ERR for pneumonia `err_for_pneumonia` . The goal is to see how well pneumonia can be predicted using the other ERR measures. This would inform policy change on the usefulness of this particular readmission rate and possibly reduce costs and/or help hone better measures."
   ]
  },
  {
   "cell_type": "markdown",
   "id": "bdc9c9ce",
   "metadata": {},
   "source": [
    "### Preliminary Data Cleaning"
   ]
  },
  {
   "cell_type": "code",
   "execution_count": 1,
   "id": "b43bf404",
   "metadata": {},
   "outputs": [
    {
     "data": {
      "text/plain": [
       "(3688, 158)"
      ]
     },
     "execution_count": 1,
     "metadata": {},
     "output_type": "execute_result"
    }
   ],
   "source": [
    "#importing packages\n",
    "import pandas as pd\n",
    "pd.set_option('display.max_columns', None)\n",
    "pd.options.mode.chained_assignment = None\n",
    "import numpy as np\n",
    "import matplotlib.pyplot as plt\n",
    "%matplotlib inline\n",
    "import seaborn as sns\n",
    "\n",
    "#importing dataset\n",
    "CMS_data= pd.read_csv('CMS_data.csv')\n",
    "CMS_data.shape"
   ]
  },
  {
   "cell_type": "code",
   "execution_count": 2,
   "id": "e576c95c",
   "metadata": {},
   "outputs": [],
   "source": [
    "# turn wide to long\n",
    "# keep underscore at the end to work\n",
    "CMS_long = pd.wide_to_long(CMS_data, stubnames=['err_for_pneumonia_','err_for_ami_','err_for_hf_',\n",
    "                                          'err_for_hka_','err_for_copd_','err_for_cabg_',\n",
    "                                          'white_','black_','asian_','hispanic_',\n",
    "                                          'per_cap_inc_','unemployment_','bachelor_or_higher_'],\n",
    "                           i='hospital_ccn', j='year')\n",
    "\n",
    "#remove multi-index\n",
    "CMS_long = CMS_long.reset_index()"
   ]
  },
  {
   "cell_type": "code",
   "execution_count": 3,
   "id": "81105500",
   "metadata": {},
   "outputs": [],
   "source": [
    "# drop columns not in alignment with analysis goal\n",
    "CMS_drop = CMS_long.drop(columns=['hosp_name_hcr','hospital_name','prvdr_ctrl_type_cd','state',      #duplicates\n",
    "                      'ipf','oltc','irf','nf','icf','snf',                                     #admin data and segmentation\n",
    "                      'initial_rpch_or_cah','ipf_provider_number','ipf_provider_number.1',   #col all NaNs\n",
    "                      'snf_provider_number','swing_bed_snf_provider_number','nf_provider_number',\n",
    "                      'irf_provider_number','irf_provider_number.1','swing_bed_nf_provider_number',\n",
    "                      'icf_provider_number','subprovider_1','hospital_type','subprovider_1_provider_number',\n",
    "                      'subprovider_2_provider_number', 'subprovider_iii_indicator','subprovider_2',\n",
    "                      'labor_and_delivery','intensive_care_unit','cardiac_catheterization','initial_rph_or_cah',\n",
    "                      'cardiac_catheterization.1','surgical_intensive_care_unit','nursery',\n",
    "                      'coronary_care_unit','other_special_care','hospice','hospital_adults_&_pediatrics',\n",
    "                      'burn_intensive_care_unit','cardiac_catheterization.2','critical_access_hosp_hcr',\n",
    "                      'total_hospital','total_facility','rpch_or_cah','initial_rpch_or_cah','rph_or_cah',\n",
    "                      'prvdr_ctgry_sbtyp_cd_formatted','hospital_type', 'total',          \n",
    "                      'ruca_description', 'street','city','hospital_county','zip','tract' # granular not useful \n",
    "                     ])\n"
   ]
  },
  {
   "cell_type": "markdown",
   "id": "b9e6a69a",
   "metadata": {},
   "source": [
    "####  2019 is the best year for this analysis. Reporting for all conditions was underway by 2019 yet it's data that isn't confounded by the COVID-19 pandemic."
   ]
  },
  {
   "cell_type": "code",
   "execution_count": 4,
   "id": "f3a5da53",
   "metadata": {
    "scrolled": true
   },
   "outputs": [
    {
     "data": {
      "text/html": [
       "<div>\n",
       "<style scoped>\n",
       "    .dataframe tbody tr th:only-of-type {\n",
       "        vertical-align: middle;\n",
       "    }\n",
       "\n",
       "    .dataframe tbody tr th {\n",
       "        vertical-align: top;\n",
       "    }\n",
       "\n",
       "    .dataframe thead th {\n",
       "        text-align: right;\n",
       "    }\n",
       "</style>\n",
       "<table border=\"1\" class=\"dataframe\">\n",
       "  <thead>\n",
       "    <tr style=\"text-align: right;\">\n",
       "      <th></th>\n",
       "      <th>hospital_ccn</th>\n",
       "      <th>year</th>\n",
       "      <th>state_abbreviation</th>\n",
       "      <th>cms_region_code</th>\n",
       "      <th>ruca</th>\n",
       "      <th>ownership_forprofit</th>\n",
       "      <th>ownership_government</th>\n",
       "      <th>cah</th>\n",
       "      <th>beds</th>\n",
       "      <th>expanded_2014</th>\n",
       "      <th>ownership_nonprofit</th>\n",
       "      <th>teaching_hospital</th>\n",
       "      <th>err_for_pneumonia</th>\n",
       "      <th>err_for_ami</th>\n",
       "      <th>err_for_hf</th>\n",
       "      <th>err_for_hka</th>\n",
       "      <th>err_for_copd</th>\n",
       "      <th>err_for_cabg</th>\n",
       "      <th>white</th>\n",
       "      <th>black</th>\n",
       "      <th>asian</th>\n",
       "      <th>hispanic</th>\n",
       "      <th>per_cap_inc</th>\n",
       "      <th>unemployment</th>\n",
       "      <th>bachelor_or_higher</th>\n",
       "    </tr>\n",
       "  </thead>\n",
       "  <tbody>\n",
       "    <tr>\n",
       "      <th>6</th>\n",
       "      <td>10001</td>\n",
       "      <td>2019</td>\n",
       "      <td>AL</td>\n",
       "      <td>4.0</td>\n",
       "      <td>1.0</td>\n",
       "      <td>0.0</td>\n",
       "      <td>1.0</td>\n",
       "      <td>0</td>\n",
       "      <td>332</td>\n",
       "      <td>False</td>\n",
       "      <td>0.0</td>\n",
       "      <td>1.0</td>\n",
       "      <td>1.0454</td>\n",
       "      <td>1.0072</td>\n",
       "      <td>1.0135</td>\n",
       "      <td>1.0468</td>\n",
       "      <td>0.9913</td>\n",
       "      <td>1.1392</td>\n",
       "      <td>0.875272</td>\n",
       "      <td>0.996801</td>\n",
       "      <td>0.080778</td>\n",
       "      <td>0.048367</td>\n",
       "      <td>25565.0</td>\n",
       "      <td>0.123702</td>\n",
       "      <td>0.392215</td>\n",
       "    </tr>\n",
       "    <tr>\n",
       "      <th>15</th>\n",
       "      <td>10005</td>\n",
       "      <td>2019</td>\n",
       "      <td>AL</td>\n",
       "      <td>4.0</td>\n",
       "      <td>4.0</td>\n",
       "      <td>0.0</td>\n",
       "      <td>1.0</td>\n",
       "      <td>0</td>\n",
       "      <td>195</td>\n",
       "      <td>False</td>\n",
       "      <td>0.0</td>\n",
       "      <td>0.0</td>\n",
       "      <td>0.9677</td>\n",
       "      <td>0.9518</td>\n",
       "      <td>1.0288</td>\n",
       "      <td>1.0913</td>\n",
       "      <td>0.9054</td>\n",
       "      <td>NaN</td>\n",
       "      <td>2.123546</td>\n",
       "      <td>0.774713</td>\n",
       "      <td>0.007986</td>\n",
       "      <td>0.139299</td>\n",
       "      <td>24362.0</td>\n",
       "      <td>0.142012</td>\n",
       "      <td>0.418612</td>\n",
       "    </tr>\n",
       "    <tr>\n",
       "      <th>24</th>\n",
       "      <td>10006</td>\n",
       "      <td>2019</td>\n",
       "      <td>AL</td>\n",
       "      <td>4.0</td>\n",
       "      <td>1.0</td>\n",
       "      <td>1.0</td>\n",
       "      <td>0.0</td>\n",
       "      <td>0</td>\n",
       "      <td>223</td>\n",
       "      <td>False</td>\n",
       "      <td>0.0</td>\n",
       "      <td>0.0</td>\n",
       "      <td>0.9817</td>\n",
       "      <td>1.0332</td>\n",
       "      <td>0.9558</td>\n",
       "      <td>1.3032</td>\n",
       "      <td>0.9974</td>\n",
       "      <td>1.1655</td>\n",
       "      <td>2.870153</td>\n",
       "      <td>0.963170</td>\n",
       "      <td>0.007950</td>\n",
       "      <td>0.421759</td>\n",
       "      <td>19702.5</td>\n",
       "      <td>0.328939</td>\n",
       "      <td>0.303064</td>\n",
       "    </tr>\n",
       "    <tr>\n",
       "      <th>33</th>\n",
       "      <td>10007</td>\n",
       "      <td>2019</td>\n",
       "      <td>AL</td>\n",
       "      <td>4.0</td>\n",
       "      <td>7.0</td>\n",
       "      <td>0.0</td>\n",
       "      <td>1.0</td>\n",
       "      <td>0</td>\n",
       "      <td>45</td>\n",
       "      <td>False</td>\n",
       "      <td>0.0</td>\n",
       "      <td>0.0</td>\n",
       "      <td>0.9891</td>\n",
       "      <td>0.9768</td>\n",
       "      <td>1.1313</td>\n",
       "      <td>1.1117</td>\n",
       "      <td>1.0096</td>\n",
       "      <td>NaN</td>\n",
       "      <td>1.469827</td>\n",
       "      <td>0.465761</td>\n",
       "      <td>0.003241</td>\n",
       "      <td>0.035635</td>\n",
       "      <td>23710.5</td>\n",
       "      <td>0.245147</td>\n",
       "      <td>0.224750</td>\n",
       "    </tr>\n",
       "    <tr>\n",
       "      <th>42</th>\n",
       "      <td>10008</td>\n",
       "      <td>2019</td>\n",
       "      <td>AL</td>\n",
       "      <td>4.0</td>\n",
       "      <td>3.0</td>\n",
       "      <td>0.0</td>\n",
       "      <td>1.0</td>\n",
       "      <td>0</td>\n",
       "      <td>29</td>\n",
       "      <td>False</td>\n",
       "      <td>0.0</td>\n",
       "      <td>0.0</td>\n",
       "      <td>0.9805</td>\n",
       "      <td>1.0067</td>\n",
       "      <td>1.0064</td>\n",
       "      <td>NaN</td>\n",
       "      <td>0.9730</td>\n",
       "      <td>NaN</td>\n",
       "      <td>0.683967</td>\n",
       "      <td>0.212487</td>\n",
       "      <td>0.044964</td>\n",
       "      <td>0.005653</td>\n",
       "      <td>23630.0</td>\n",
       "      <td>0.024217</td>\n",
       "      <td>0.140545</td>\n",
       "    </tr>\n",
       "  </tbody>\n",
       "</table>\n",
       "</div>"
      ],
      "text/plain": [
       "    hospital_ccn  year state_abbreviation  cms_region_code  ruca  \\\n",
       "6          10001  2019                 AL              4.0   1.0   \n",
       "15         10005  2019                 AL              4.0   4.0   \n",
       "24         10006  2019                 AL              4.0   1.0   \n",
       "33         10007  2019                 AL              4.0   7.0   \n",
       "42         10008  2019                 AL              4.0   3.0   \n",
       "\n",
       "    ownership_forprofit  ownership_government  cah beds expanded_2014  \\\n",
       "6                   0.0                   1.0    0  332         False   \n",
       "15                  0.0                   1.0    0  195         False   \n",
       "24                  1.0                   0.0    0  223         False   \n",
       "33                  0.0                   1.0    0   45         False   \n",
       "42                  0.0                   1.0    0   29         False   \n",
       "\n",
       "    ownership_nonprofit  teaching_hospital  err_for_pneumonia  err_for_ami  \\\n",
       "6                   0.0                1.0             1.0454       1.0072   \n",
       "15                  0.0                0.0             0.9677       0.9518   \n",
       "24                  0.0                0.0             0.9817       1.0332   \n",
       "33                  0.0                0.0             0.9891       0.9768   \n",
       "42                  0.0                0.0             0.9805       1.0067   \n",
       "\n",
       "    err_for_hf  err_for_hka  err_for_copd  err_for_cabg     white     black  \\\n",
       "6       1.0135       1.0468        0.9913        1.1392  0.875272  0.996801   \n",
       "15      1.0288       1.0913        0.9054           NaN  2.123546  0.774713   \n",
       "24      0.9558       1.3032        0.9974        1.1655  2.870153  0.963170   \n",
       "33      1.1313       1.1117        1.0096           NaN  1.469827  0.465761   \n",
       "42      1.0064          NaN        0.9730           NaN  0.683967  0.212487   \n",
       "\n",
       "       asian  hispanic  per_cap_inc  unemployment  bachelor_or_higher  \n",
       "6   0.080778  0.048367      25565.0      0.123702            0.392215  \n",
       "15  0.007986  0.139299      24362.0      0.142012            0.418612  \n",
       "24  0.007950  0.421759      19702.5      0.328939            0.303064  \n",
       "33  0.003241  0.035635      23710.5      0.245147            0.224750  \n",
       "42  0.044964  0.005653      23630.0      0.024217            0.140545  "
      ]
     },
     "execution_count": 4,
     "metadata": {},
     "output_type": "execute_result"
    }
   ],
   "source": [
    "# extracting 2019 data\n",
    "df= CMS_drop[CMS_drop.year == 2019]\n",
    "\n",
    "#removing underscore from ends of columns\n",
    "df.columns = df.columns.str.rstrip('_')\n",
    "\n",
    "# final dataframe to be used in EDA\n",
    "df.head()"
   ]
  },
  {
   "cell_type": "markdown",
   "id": "ca80cb2c",
   "metadata": {},
   "source": [
    "## Exploratory Data Analysis"
   ]
  },
  {
   "cell_type": "markdown",
   "id": "61a543b7",
   "metadata": {},
   "source": [
    "#### Checking for Missing Values and Data Types"
   ]
  },
  {
   "cell_type": "code",
   "execution_count": 5,
   "id": "18d0620a",
   "metadata": {
    "scrolled": false
   },
   "outputs": [
    {
     "name": "stdout",
     "output_type": "stream",
     "text": [
      "<class 'pandas.core.frame.DataFrame'>\n",
      "Int64Index: 3688 entries, 6 to 33189\n",
      "Data columns (total 25 columns):\n",
      " #   Column                Non-Null Count  Dtype  \n",
      "---  ------                --------------  -----  \n",
      " 0   hospital_ccn          3688 non-null   int64  \n",
      " 1   year                  3688 non-null   int64  \n",
      " 2   state_abbreviation    3379 non-null   object \n",
      " 3   cms_region_code       3043 non-null   float64\n",
      " 4   ruca                  3201 non-null   float64\n",
      " 5   ownership_forprofit   3239 non-null   float64\n",
      " 6   ownership_government  3239 non-null   float64\n",
      " 7   cah                   3688 non-null   int64  \n",
      " 8   beds                  3239 non-null   object \n",
      " 9   expanded_2014         3370 non-null   object \n",
      " 10  ownership_nonprofit   3239 non-null   float64\n",
      " 11  teaching_hospital     3231 non-null   float64\n",
      " 12  err_for_pneumonia     3053 non-null   float64\n",
      " 13  err_for_ami           2918 non-null   float64\n",
      " 14  err_for_hf            3024 non-null   float64\n",
      " 15  err_for_hka           2812 non-null   float64\n",
      " 16  err_for_copd          3034 non-null   float64\n",
      " 17  err_for_cabg          1148 non-null   float64\n",
      " 18  white                 3202 non-null   float64\n",
      " 19  black                 3202 non-null   float64\n",
      " 20  asian                 3202 non-null   float64\n",
      " 21  hispanic              3202 non-null   float64\n",
      " 22  per_cap_inc           3202 non-null   float64\n",
      " 23  unemployment          3202 non-null   float64\n",
      " 24  bachelor_or_higher    3202 non-null   float64\n",
      "dtypes: float64(19), int64(3), object(3)\n",
      "memory usage: 749.1+ KB\n"
     ]
    }
   ],
   "source": [
    "df.info()"
   ]
  },
  {
   "cell_type": "markdown",
   "id": "07810ab5",
   "metadata": {},
   "source": [
    "Missing data is primarily due to lack of data availability:\n",
    "- Since demographic data comes the same source, they have the same number of nulls.\n",
    "- There is a threshold for a minimum number of cases before a hospital must report `ERR` for a particular condition. Thus,the variability in available data, e.g. hospitals simply don't perform `cabg` procedures. This could still be useful to the analysis.\n",
    "\n",
    "Data types are mostly correct but requires further understanding (below):\n",
    "- `per_cap_inc` and `beds` are numerical.\n",
    "- `asian`, `white`, `black`, `hispanic`, `unemployment`, `bachelor_or_higher` are percentages.\n",
    "- The following are Boolean variables but have missing values so won't be converted: `ownership_forprofit`, `ownership_nonprofit`, `ownership_government`, `cah` also from the same data source."
   ]
  },
  {
   "cell_type": "code",
   "execution_count": 6,
   "id": "6d190360",
   "metadata": {
    "scrolled": true
   },
   "outputs": [
    {
     "data": {
      "text/html": [
       "<div>\n",
       "<style scoped>\n",
       "    .dataframe tbody tr th:only-of-type {\n",
       "        vertical-align: middle;\n",
       "    }\n",
       "\n",
       "    .dataframe tbody tr th {\n",
       "        vertical-align: top;\n",
       "    }\n",
       "\n",
       "    .dataframe thead th {\n",
       "        text-align: right;\n",
       "    }\n",
       "</style>\n",
       "<table border=\"1\" class=\"dataframe\">\n",
       "  <thead>\n",
       "    <tr style=\"text-align: right;\">\n",
       "      <th></th>\n",
       "      <th>hospital_ccn</th>\n",
       "      <th>year</th>\n",
       "      <th>cms_region_code</th>\n",
       "      <th>ruca</th>\n",
       "      <th>ownership_forprofit</th>\n",
       "      <th>ownership_government</th>\n",
       "      <th>cah</th>\n",
       "      <th>ownership_nonprofit</th>\n",
       "      <th>teaching_hospital</th>\n",
       "      <th>err_for_pneumonia</th>\n",
       "      <th>err_for_ami</th>\n",
       "      <th>err_for_hf</th>\n",
       "      <th>err_for_hka</th>\n",
       "      <th>err_for_copd</th>\n",
       "      <th>err_for_cabg</th>\n",
       "      <th>white</th>\n",
       "      <th>black</th>\n",
       "      <th>asian</th>\n",
       "      <th>hispanic</th>\n",
       "      <th>per_cap_inc</th>\n",
       "      <th>unemployment</th>\n",
       "      <th>bachelor_or_higher</th>\n",
       "    </tr>\n",
       "  </thead>\n",
       "  <tbody>\n",
       "    <tr>\n",
       "      <th>count</th>\n",
       "      <td>3688.000000</td>\n",
       "      <td>3688.0</td>\n",
       "      <td>3043.000000</td>\n",
       "      <td>3201.000000</td>\n",
       "      <td>3239.000000</td>\n",
       "      <td>3239.000000</td>\n",
       "      <td>3688.000000</td>\n",
       "      <td>3239.000000</td>\n",
       "      <td>3231.000000</td>\n",
       "      <td>3053.000000</td>\n",
       "      <td>2918.000000</td>\n",
       "      <td>3024.000000</td>\n",
       "      <td>2812.000000</td>\n",
       "      <td>3034.000000</td>\n",
       "      <td>1148.000000</td>\n",
       "      <td>3202.000000</td>\n",
       "      <td>3202.000000</td>\n",
       "      <td>3202.000000</td>\n",
       "      <td>3202.000000</td>\n",
       "      <td>3202.000000</td>\n",
       "      <td>3202.000000</td>\n",
       "      <td>3202.000000</td>\n",
       "    </tr>\n",
       "    <tr>\n",
       "      <th>mean</th>\n",
       "      <td>267971.420011</td>\n",
       "      <td>2019.0</td>\n",
       "      <td>5.186001</td>\n",
       "      <td>2.565979</td>\n",
       "      <td>0.247299</td>\n",
       "      <td>0.145724</td>\n",
       "      <td>0.009761</td>\n",
       "      <td>0.606977</td>\n",
       "      <td>0.383782</td>\n",
       "      <td>1.001974</td>\n",
       "      <td>1.000969</td>\n",
       "      <td>1.001527</td>\n",
       "      <td>1.006511</td>\n",
       "      <td>1.001251</td>\n",
       "      <td>1.004557</td>\n",
       "      <td>2.796476</td>\n",
       "      <td>0.593251</td>\n",
       "      <td>0.088114</td>\n",
       "      <td>0.644161</td>\n",
       "      <td>31808.505095</td>\n",
       "      <td>0.243845</td>\n",
       "      <td>0.593039</td>\n",
       "    </tr>\n",
       "    <tr>\n",
       "      <th>std</th>\n",
       "      <td>164552.754833</td>\n",
       "      <td>0.0</td>\n",
       "      <td>2.321378</td>\n",
       "      <td>6.281256</td>\n",
       "      <td>0.431508</td>\n",
       "      <td>0.352884</td>\n",
       "      <td>0.098330</td>\n",
       "      <td>0.488497</td>\n",
       "      <td>0.486381</td>\n",
       "      <td>0.078273</td>\n",
       "      <td>0.054292</td>\n",
       "      <td>0.072842</td>\n",
       "      <td>0.121803</td>\n",
       "      <td>0.059273</td>\n",
       "      <td>0.102286</td>\n",
       "      <td>6.830284</td>\n",
       "      <td>1.790874</td>\n",
       "      <td>0.142471</td>\n",
       "      <td>2.628667</td>\n",
       "      <td>14648.995630</td>\n",
       "      <td>0.546891</td>\n",
       "      <td>0.976198</td>\n",
       "    </tr>\n",
       "    <tr>\n",
       "      <th>min</th>\n",
       "      <td>10001.000000</td>\n",
       "      <td>2019.0</td>\n",
       "      <td>1.000000</td>\n",
       "      <td>1.000000</td>\n",
       "      <td>0.000000</td>\n",
       "      <td>0.000000</td>\n",
       "      <td>0.000000</td>\n",
       "      <td>0.000000</td>\n",
       "      <td>0.000000</td>\n",
       "      <td>0.761000</td>\n",
       "      <td>0.747900</td>\n",
       "      <td>0.746700</td>\n",
       "      <td>0.598200</td>\n",
       "      <td>0.812600</td>\n",
       "      <td>0.730500</td>\n",
       "      <td>0.004924</td>\n",
       "      <td>0.000000</td>\n",
       "      <td>0.000000</td>\n",
       "      <td>0.000000</td>\n",
       "      <td>970.000000</td>\n",
       "      <td>0.000000</td>\n",
       "      <td>0.002839</td>\n",
       "    </tr>\n",
       "    <tr>\n",
       "      <th>25%</th>\n",
       "      <td>110191.750000</td>\n",
       "      <td>2019.0</td>\n",
       "      <td>4.000000</td>\n",
       "      <td>1.000000</td>\n",
       "      <td>0.000000</td>\n",
       "      <td>0.000000</td>\n",
       "      <td>0.000000</td>\n",
       "      <td>0.000000</td>\n",
       "      <td>0.000000</td>\n",
       "      <td>0.951000</td>\n",
       "      <td>0.975425</td>\n",
       "      <td>0.956975</td>\n",
       "      <td>0.935400</td>\n",
       "      <td>0.965000</td>\n",
       "      <td>0.939175</td>\n",
       "      <td>0.750600</td>\n",
       "      <td>0.032479</td>\n",
       "      <td>0.011836</td>\n",
       "      <td>0.052924</td>\n",
       "      <td>22961.500000</td>\n",
       "      <td>0.043446</td>\n",
       "      <td>0.181792</td>\n",
       "    </tr>\n",
       "    <tr>\n",
       "      <th>50%</th>\n",
       "      <td>260080.500000</td>\n",
       "      <td>2019.0</td>\n",
       "      <td>5.000000</td>\n",
       "      <td>1.000000</td>\n",
       "      <td>0.000000</td>\n",
       "      <td>0.000000</td>\n",
       "      <td>0.000000</td>\n",
       "      <td>1.000000</td>\n",
       "      <td>0.000000</td>\n",
       "      <td>0.996600</td>\n",
       "      <td>0.997700</td>\n",
       "      <td>0.998100</td>\n",
       "      <td>0.996500</td>\n",
       "      <td>0.997500</td>\n",
       "      <td>0.999200</td>\n",
       "      <td>0.939993</td>\n",
       "      <td>0.133913</td>\n",
       "      <td>0.038038</td>\n",
       "      <td>0.153003</td>\n",
       "      <td>28247.192308</td>\n",
       "      <td>0.086514</td>\n",
       "      <td>0.333821</td>\n",
       "    </tr>\n",
       "    <tr>\n",
       "      <th>75%</th>\n",
       "      <td>390313.250000</td>\n",
       "      <td>2019.0</td>\n",
       "      <td>6.000000</td>\n",
       "      <td>4.000000</td>\n",
       "      <td>0.000000</td>\n",
       "      <td>0.000000</td>\n",
       "      <td>0.000000</td>\n",
       "      <td>1.000000</td>\n",
       "      <td>1.000000</td>\n",
       "      <td>1.048400</td>\n",
       "      <td>1.027175</td>\n",
       "      <td>1.043900</td>\n",
       "      <td>1.067900</td>\n",
       "      <td>1.033250</td>\n",
       "      <td>1.064550</td>\n",
       "      <td>2.559554</td>\n",
       "      <td>0.507996</td>\n",
       "      <td>0.103489</td>\n",
       "      <td>0.438180</td>\n",
       "      <td>36038.900000</td>\n",
       "      <td>0.230398</td>\n",
       "      <td>0.621427</td>\n",
       "    </tr>\n",
       "    <tr>\n",
       "      <th>max</th>\n",
       "      <td>670899.000000</td>\n",
       "      <td>2019.0</td>\n",
       "      <td>10.000000</td>\n",
       "      <td>99.000000</td>\n",
       "      <td>1.000000</td>\n",
       "      <td>1.000000</td>\n",
       "      <td>1.000000</td>\n",
       "      <td>1.000000</td>\n",
       "      <td>1.000000</td>\n",
       "      <td>1.380100</td>\n",
       "      <td>1.292700</td>\n",
       "      <td>1.339400</td>\n",
       "      <td>1.825600</td>\n",
       "      <td>1.322200</td>\n",
       "      <td>1.707200</td>\n",
       "      <td>96.790789</td>\n",
       "      <td>25.012423</td>\n",
       "      <td>1.594522</td>\n",
       "      <td>33.839833</td>\n",
       "      <td>151643.000000</td>\n",
       "      <td>5.122792</td>\n",
       "      <td>13.236934</td>\n",
       "    </tr>\n",
       "  </tbody>\n",
       "</table>\n",
       "</div>"
      ],
      "text/plain": [
       "        hospital_ccn    year  cms_region_code         ruca  \\\n",
       "count    3688.000000  3688.0      3043.000000  3201.000000   \n",
       "mean   267971.420011  2019.0         5.186001     2.565979   \n",
       "std    164552.754833     0.0         2.321378     6.281256   \n",
       "min     10001.000000  2019.0         1.000000     1.000000   \n",
       "25%    110191.750000  2019.0         4.000000     1.000000   \n",
       "50%    260080.500000  2019.0         5.000000     1.000000   \n",
       "75%    390313.250000  2019.0         6.000000     4.000000   \n",
       "max    670899.000000  2019.0        10.000000    99.000000   \n",
       "\n",
       "       ownership_forprofit  ownership_government          cah  \\\n",
       "count          3239.000000           3239.000000  3688.000000   \n",
       "mean              0.247299              0.145724     0.009761   \n",
       "std               0.431508              0.352884     0.098330   \n",
       "min               0.000000              0.000000     0.000000   \n",
       "25%               0.000000              0.000000     0.000000   \n",
       "50%               0.000000              0.000000     0.000000   \n",
       "75%               0.000000              0.000000     0.000000   \n",
       "max               1.000000              1.000000     1.000000   \n",
       "\n",
       "       ownership_nonprofit  teaching_hospital  err_for_pneumonia  err_for_ami  \\\n",
       "count          3239.000000        3231.000000        3053.000000  2918.000000   \n",
       "mean              0.606977           0.383782           1.001974     1.000969   \n",
       "std               0.488497           0.486381           0.078273     0.054292   \n",
       "min               0.000000           0.000000           0.761000     0.747900   \n",
       "25%               0.000000           0.000000           0.951000     0.975425   \n",
       "50%               1.000000           0.000000           0.996600     0.997700   \n",
       "75%               1.000000           1.000000           1.048400     1.027175   \n",
       "max               1.000000           1.000000           1.380100     1.292700   \n",
       "\n",
       "        err_for_hf  err_for_hka  err_for_copd  err_for_cabg        white  \\\n",
       "count  3024.000000  2812.000000   3034.000000   1148.000000  3202.000000   \n",
       "mean      1.001527     1.006511      1.001251      1.004557     2.796476   \n",
       "std       0.072842     0.121803      0.059273      0.102286     6.830284   \n",
       "min       0.746700     0.598200      0.812600      0.730500     0.004924   \n",
       "25%       0.956975     0.935400      0.965000      0.939175     0.750600   \n",
       "50%       0.998100     0.996500      0.997500      0.999200     0.939993   \n",
       "75%       1.043900     1.067900      1.033250      1.064550     2.559554   \n",
       "max       1.339400     1.825600      1.322200      1.707200    96.790789   \n",
       "\n",
       "             black        asian     hispanic    per_cap_inc  unemployment  \\\n",
       "count  3202.000000  3202.000000  3202.000000    3202.000000   3202.000000   \n",
       "mean      0.593251     0.088114     0.644161   31808.505095      0.243845   \n",
       "std       1.790874     0.142471     2.628667   14648.995630      0.546891   \n",
       "min       0.000000     0.000000     0.000000     970.000000      0.000000   \n",
       "25%       0.032479     0.011836     0.052924   22961.500000      0.043446   \n",
       "50%       0.133913     0.038038     0.153003   28247.192308      0.086514   \n",
       "75%       0.507996     0.103489     0.438180   36038.900000      0.230398   \n",
       "max      25.012423     1.594522    33.839833  151643.000000      5.122792   \n",
       "\n",
       "       bachelor_or_higher  \n",
       "count         3202.000000  \n",
       "mean             0.593039  \n",
       "std              0.976198  \n",
       "min              0.002839  \n",
       "25%              0.181792  \n",
       "50%              0.333821  \n",
       "75%              0.621427  \n",
       "max             13.236934  "
      ]
     },
     "execution_count": 6,
     "metadata": {},
     "output_type": "execute_result"
    }
   ],
   "source": [
    "df.describe()"
   ]
  },
  {
   "cell_type": "code",
   "execution_count": 7,
   "id": "e7d30830",
   "metadata": {},
   "outputs": [],
   "source": [
    "# after further exploration\n",
    "# grouping variables by type for later reference.\n",
    "\n",
    "int_cols = ['beds']\n",
    "\n",
    "bool_cols = ['teaching_hospital', 'expanded_2014', 'cah',\n",
    "           'ownership_forprofit', 'ownership_nonprofit', 'ownership_government']\n",
    "\n",
    "ordinal_cols = ['ruca', 'cms_region_code']\n",
    "\n",
    "float_cols = ['err_for_hf','err_for_hka','err_for_copd',\n",
    "              'err_for_cabg','err_for_pneumonia','err_for_ami',\n",
    "             'white','black','asian','hispanic',\n",
    "             'per_cap_inc','unemployment','bachelor_or_higher']"
   ]
  },
  {
   "cell_type": "markdown",
   "id": "e061ca52",
   "metadata": {},
   "source": [
    "- `ruca` 1 - 4 and `cms_region_code` 1-10 are both still categorical and stays as floats to accomodate null values.\n",
    "- `beds` must be converted to a numerical column"
   ]
  },
  {
   "cell_type": "code",
   "execution_count": 8,
   "id": "f0bae231",
   "metadata": {
    "scrolled": true
   },
   "outputs": [],
   "source": [
    "# converting beds to numerical\n",
    "df['beds'] = pd.to_numeric(df['beds'], errors='coerce') #change error to NaN"
   ]
  },
  {
   "cell_type": "code",
   "execution_count": 9,
   "id": "a75a47b4",
   "metadata": {},
   "outputs": [
    {
     "data": {
      "text/plain": [
       "count    3232.00000\n",
       "mean      198.49474\n",
       "std       208.05316\n",
       "min         1.00000\n",
       "25%        54.00000\n",
       "50%       135.00000\n",
       "75%       268.00000\n",
       "max      2812.00000\n",
       "Name: beds, dtype: float64"
      ]
     },
     "execution_count": 9,
     "metadata": {},
     "output_type": "execute_result"
    }
   ],
   "source": [
    "# checking conversion\n",
    "df.beds.describe()"
   ]
  },
  {
   "cell_type": "markdown",
   "id": "7e485d1f",
   "metadata": {},
   "source": [
    "#### `expanded_2014` shouldn't have any missing since it's known information"
   ]
  },
  {
   "cell_type": "code",
   "execution_count": 10,
   "id": "cf9840e1",
   "metadata": {},
   "outputs": [
    {
     "data": {
      "text/plain": [
       "318"
      ]
     },
     "execution_count": 10,
     "metadata": {},
     "output_type": "execute_result"
    }
   ],
   "source": [
    "# rows without expansion information\n",
    "df['expanded_2014'].isna().sum()"
   ]
  },
  {
   "cell_type": "code",
   "execution_count": 11,
   "id": "8ab65786",
   "metadata": {},
   "outputs": [
    {
     "data": {
      "text/plain": [
       "309"
      ]
     },
     "execution_count": 11,
     "metadata": {},
     "output_type": "execute_result"
    }
   ],
   "source": [
    "# rows without state_abbreviation\n",
    "df['state_abbreviation'].isna().sum()"
   ]
  },
  {
   "cell_type": "markdown",
   "id": "653d0087",
   "metadata": {},
   "source": [
    "Expanded states might be related to nulls in state abbreviations. Without knowing the state, we cannot know whether the state expanded or not."
   ]
  },
  {
   "cell_type": "code",
   "execution_count": 12,
   "id": "59a10446",
   "metadata": {},
   "outputs": [
    {
     "data": {
      "text/html": [
       "<div>\n",
       "<style scoped>\n",
       "    .dataframe tbody tr th:only-of-type {\n",
       "        vertical-align: middle;\n",
       "    }\n",
       "\n",
       "    .dataframe tbody tr th {\n",
       "        vertical-align: top;\n",
       "    }\n",
       "\n",
       "    .dataframe thead th {\n",
       "        text-align: right;\n",
       "    }\n",
       "</style>\n",
       "<table border=\"1\" class=\"dataframe\">\n",
       "  <thead>\n",
       "    <tr style=\"text-align: right;\">\n",
       "      <th></th>\n",
       "      <th>hospital_ccn</th>\n",
       "      <th>year</th>\n",
       "      <th>state_abbreviation</th>\n",
       "      <th>cms_region_code</th>\n",
       "      <th>ruca</th>\n",
       "      <th>ownership_forprofit</th>\n",
       "      <th>ownership_government</th>\n",
       "      <th>cah</th>\n",
       "      <th>beds</th>\n",
       "      <th>expanded_2014</th>\n",
       "      <th>ownership_nonprofit</th>\n",
       "      <th>teaching_hospital</th>\n",
       "      <th>err_for_pneumonia</th>\n",
       "      <th>err_for_ami</th>\n",
       "      <th>err_for_hf</th>\n",
       "      <th>err_for_hka</th>\n",
       "      <th>err_for_copd</th>\n",
       "      <th>err_for_cabg</th>\n",
       "      <th>white</th>\n",
       "      <th>black</th>\n",
       "      <th>asian</th>\n",
       "      <th>hispanic</th>\n",
       "      <th>per_cap_inc</th>\n",
       "      <th>unemployment</th>\n",
       "      <th>bachelor_or_higher</th>\n",
       "    </tr>\n",
       "  </thead>\n",
       "  <tbody>\n",
       "    <tr>\n",
       "      <th>51</th>\n",
       "      <td>10009</td>\n",
       "      <td>2019</td>\n",
       "      <td>NaN</td>\n",
       "      <td>NaN</td>\n",
       "      <td>1.0</td>\n",
       "      <td>NaN</td>\n",
       "      <td>NaN</td>\n",
       "      <td>0</td>\n",
       "      <td>NaN</td>\n",
       "      <td>NaN</td>\n",
       "      <td>NaN</td>\n",
       "      <td>NaN</td>\n",
       "      <td>NaN</td>\n",
       "      <td>NaN</td>\n",
       "      <td>NaN</td>\n",
       "      <td>NaN</td>\n",
       "      <td>NaN</td>\n",
       "      <td>NaN</td>\n",
       "      <td>NaN</td>\n",
       "      <td>NaN</td>\n",
       "      <td>NaN</td>\n",
       "      <td>NaN</td>\n",
       "      <td>NaN</td>\n",
       "      <td>NaN</td>\n",
       "      <td>NaN</td>\n",
       "    </tr>\n",
       "    <tr>\n",
       "      <th>87</th>\n",
       "      <td>10015</td>\n",
       "      <td>2019</td>\n",
       "      <td>NaN</td>\n",
       "      <td>NaN</td>\n",
       "      <td>1.0</td>\n",
       "      <td>NaN</td>\n",
       "      <td>NaN</td>\n",
       "      <td>0</td>\n",
       "      <td>NaN</td>\n",
       "      <td>NaN</td>\n",
       "      <td>NaN</td>\n",
       "      <td>NaN</td>\n",
       "      <td>NaN</td>\n",
       "      <td>NaN</td>\n",
       "      <td>NaN</td>\n",
       "      <td>NaN</td>\n",
       "      <td>NaN</td>\n",
       "      <td>NaN</td>\n",
       "      <td>NaN</td>\n",
       "      <td>NaN</td>\n",
       "      <td>NaN</td>\n",
       "      <td>NaN</td>\n",
       "      <td>NaN</td>\n",
       "      <td>NaN</td>\n",
       "      <td>NaN</td>\n",
       "    </tr>\n",
       "    <tr>\n",
       "      <th>168</th>\n",
       "      <td>10027</td>\n",
       "      <td>2019</td>\n",
       "      <td>NaN</td>\n",
       "      <td>NaN</td>\n",
       "      <td>1.0</td>\n",
       "      <td>NaN</td>\n",
       "      <td>NaN</td>\n",
       "      <td>0</td>\n",
       "      <td>NaN</td>\n",
       "      <td>NaN</td>\n",
       "      <td>NaN</td>\n",
       "      <td>NaN</td>\n",
       "      <td>NaN</td>\n",
       "      <td>NaN</td>\n",
       "      <td>NaN</td>\n",
       "      <td>NaN</td>\n",
       "      <td>NaN</td>\n",
       "      <td>NaN</td>\n",
       "      <td>NaN</td>\n",
       "      <td>NaN</td>\n",
       "      <td>NaN</td>\n",
       "      <td>NaN</td>\n",
       "      <td>NaN</td>\n",
       "      <td>NaN</td>\n",
       "      <td>NaN</td>\n",
       "    </tr>\n",
       "    <tr>\n",
       "      <th>258</th>\n",
       "      <td>10043</td>\n",
       "      <td>2019</td>\n",
       "      <td>NaN</td>\n",
       "      <td>NaN</td>\n",
       "      <td>1.0</td>\n",
       "      <td>NaN</td>\n",
       "      <td>NaN</td>\n",
       "      <td>0</td>\n",
       "      <td>NaN</td>\n",
       "      <td>NaN</td>\n",
       "      <td>NaN</td>\n",
       "      <td>NaN</td>\n",
       "      <td>NaN</td>\n",
       "      <td>NaN</td>\n",
       "      <td>NaN</td>\n",
       "      <td>NaN</td>\n",
       "      <td>NaN</td>\n",
       "      <td>NaN</td>\n",
       "      <td>NaN</td>\n",
       "      <td>NaN</td>\n",
       "      <td>NaN</td>\n",
       "      <td>NaN</td>\n",
       "      <td>NaN</td>\n",
       "      <td>NaN</td>\n",
       "      <td>NaN</td>\n",
       "    </tr>\n",
       "    <tr>\n",
       "      <th>312</th>\n",
       "      <td>10050</td>\n",
       "      <td>2019</td>\n",
       "      <td>NaN</td>\n",
       "      <td>NaN</td>\n",
       "      <td>1.0</td>\n",
       "      <td>NaN</td>\n",
       "      <td>NaN</td>\n",
       "      <td>0</td>\n",
       "      <td>NaN</td>\n",
       "      <td>NaN</td>\n",
       "      <td>NaN</td>\n",
       "      <td>NaN</td>\n",
       "      <td>NaN</td>\n",
       "      <td>NaN</td>\n",
       "      <td>NaN</td>\n",
       "      <td>NaN</td>\n",
       "      <td>NaN</td>\n",
       "      <td>NaN</td>\n",
       "      <td>NaN</td>\n",
       "      <td>NaN</td>\n",
       "      <td>NaN</td>\n",
       "      <td>NaN</td>\n",
       "      <td>NaN</td>\n",
       "      <td>NaN</td>\n",
       "      <td>NaN</td>\n",
       "    </tr>\n",
       "    <tr>\n",
       "      <th>411</th>\n",
       "      <td>10066</td>\n",
       "      <td>2019</td>\n",
       "      <td>NaN</td>\n",
       "      <td>NaN</td>\n",
       "      <td>1.0</td>\n",
       "      <td>NaN</td>\n",
       "      <td>NaN</td>\n",
       "      <td>0</td>\n",
       "      <td>NaN</td>\n",
       "      <td>NaN</td>\n",
       "      <td>NaN</td>\n",
       "      <td>NaN</td>\n",
       "      <td>NaN</td>\n",
       "      <td>NaN</td>\n",
       "      <td>NaN</td>\n",
       "      <td>NaN</td>\n",
       "      <td>NaN</td>\n",
       "      <td>NaN</td>\n",
       "      <td>NaN</td>\n",
       "      <td>NaN</td>\n",
       "      <td>NaN</td>\n",
       "      <td>NaN</td>\n",
       "      <td>NaN</td>\n",
       "      <td>NaN</td>\n",
       "      <td>NaN</td>\n",
       "    </tr>\n",
       "    <tr>\n",
       "      <th>726</th>\n",
       "      <td>10137</td>\n",
       "      <td>2019</td>\n",
       "      <td>NaN</td>\n",
       "      <td>NaN</td>\n",
       "      <td>2.0</td>\n",
       "      <td>NaN</td>\n",
       "      <td>NaN</td>\n",
       "      <td>0</td>\n",
       "      <td>NaN</td>\n",
       "      <td>NaN</td>\n",
       "      <td>NaN</td>\n",
       "      <td>NaN</td>\n",
       "      <td>NaN</td>\n",
       "      <td>NaN</td>\n",
       "      <td>NaN</td>\n",
       "      <td>NaN</td>\n",
       "      <td>NaN</td>\n",
       "      <td>NaN</td>\n",
       "      <td>NaN</td>\n",
       "      <td>NaN</td>\n",
       "      <td>NaN</td>\n",
       "      <td>NaN</td>\n",
       "      <td>NaN</td>\n",
       "      <td>NaN</td>\n",
       "      <td>NaN</td>\n",
       "    </tr>\n",
       "    <tr>\n",
       "      <th>771</th>\n",
       "      <td>10146</td>\n",
       "      <td>2019</td>\n",
       "      <td>NaN</td>\n",
       "      <td>NaN</td>\n",
       "      <td>1.0</td>\n",
       "      <td>NaN</td>\n",
       "      <td>NaN</td>\n",
       "      <td>0</td>\n",
       "      <td>NaN</td>\n",
       "      <td>NaN</td>\n",
       "      <td>NaN</td>\n",
       "      <td>NaN</td>\n",
       "      <td>1.0473</td>\n",
       "      <td>0.9837</td>\n",
       "      <td>0.972</td>\n",
       "      <td>NaN</td>\n",
       "      <td>0.9944</td>\n",
       "      <td>NaN</td>\n",
       "      <td>NaN</td>\n",
       "      <td>NaN</td>\n",
       "      <td>NaN</td>\n",
       "      <td>NaN</td>\n",
       "      <td>NaN</td>\n",
       "      <td>NaN</td>\n",
       "      <td>NaN</td>\n",
       "    </tr>\n",
       "    <tr>\n",
       "      <th>807</th>\n",
       "      <td>10152</td>\n",
       "      <td>2019</td>\n",
       "      <td>NaN</td>\n",
       "      <td>NaN</td>\n",
       "      <td>1.0</td>\n",
       "      <td>NaN</td>\n",
       "      <td>NaN</td>\n",
       "      <td>0</td>\n",
       "      <td>NaN</td>\n",
       "      <td>NaN</td>\n",
       "      <td>NaN</td>\n",
       "      <td>NaN</td>\n",
       "      <td>NaN</td>\n",
       "      <td>NaN</td>\n",
       "      <td>NaN</td>\n",
       "      <td>NaN</td>\n",
       "      <td>NaN</td>\n",
       "      <td>NaN</td>\n",
       "      <td>NaN</td>\n",
       "      <td>NaN</td>\n",
       "      <td>NaN</td>\n",
       "      <td>NaN</td>\n",
       "      <td>NaN</td>\n",
       "      <td>NaN</td>\n",
       "      <td>NaN</td>\n",
       "    </tr>\n",
       "    <tr>\n",
       "      <th>861</th>\n",
       "      <td>10170</td>\n",
       "      <td>2019</td>\n",
       "      <td>NaN</td>\n",
       "      <td>NaN</td>\n",
       "      <td>1.0</td>\n",
       "      <td>NaN</td>\n",
       "      <td>NaN</td>\n",
       "      <td>0</td>\n",
       "      <td>NaN</td>\n",
       "      <td>NaN</td>\n",
       "      <td>NaN</td>\n",
       "      <td>NaN</td>\n",
       "      <td>NaN</td>\n",
       "      <td>NaN</td>\n",
       "      <td>NaN</td>\n",
       "      <td>NaN</td>\n",
       "      <td>NaN</td>\n",
       "      <td>NaN</td>\n",
       "      <td>NaN</td>\n",
       "      <td>NaN</td>\n",
       "      <td>NaN</td>\n",
       "      <td>NaN</td>\n",
       "      <td>NaN</td>\n",
       "      <td>NaN</td>\n",
       "      <td>NaN</td>\n",
       "    </tr>\n",
       "  </tbody>\n",
       "</table>\n",
       "</div>"
      ],
      "text/plain": [
       "     hospital_ccn  year state_abbreviation  cms_region_code  ruca  \\\n",
       "51          10009  2019                NaN              NaN   1.0   \n",
       "87          10015  2019                NaN              NaN   1.0   \n",
       "168         10027  2019                NaN              NaN   1.0   \n",
       "258         10043  2019                NaN              NaN   1.0   \n",
       "312         10050  2019                NaN              NaN   1.0   \n",
       "411         10066  2019                NaN              NaN   1.0   \n",
       "726         10137  2019                NaN              NaN   2.0   \n",
       "771         10146  2019                NaN              NaN   1.0   \n",
       "807         10152  2019                NaN              NaN   1.0   \n",
       "861         10170  2019                NaN              NaN   1.0   \n",
       "\n",
       "     ownership_forprofit  ownership_government  cah  beds expanded_2014  \\\n",
       "51                   NaN                   NaN    0   NaN           NaN   \n",
       "87                   NaN                   NaN    0   NaN           NaN   \n",
       "168                  NaN                   NaN    0   NaN           NaN   \n",
       "258                  NaN                   NaN    0   NaN           NaN   \n",
       "312                  NaN                   NaN    0   NaN           NaN   \n",
       "411                  NaN                   NaN    0   NaN           NaN   \n",
       "726                  NaN                   NaN    0   NaN           NaN   \n",
       "771                  NaN                   NaN    0   NaN           NaN   \n",
       "807                  NaN                   NaN    0   NaN           NaN   \n",
       "861                  NaN                   NaN    0   NaN           NaN   \n",
       "\n",
       "     ownership_nonprofit  teaching_hospital  err_for_pneumonia  err_for_ami  \\\n",
       "51                   NaN                NaN                NaN          NaN   \n",
       "87                   NaN                NaN                NaN          NaN   \n",
       "168                  NaN                NaN                NaN          NaN   \n",
       "258                  NaN                NaN                NaN          NaN   \n",
       "312                  NaN                NaN                NaN          NaN   \n",
       "411                  NaN                NaN                NaN          NaN   \n",
       "726                  NaN                NaN                NaN          NaN   \n",
       "771                  NaN                NaN             1.0473       0.9837   \n",
       "807                  NaN                NaN                NaN          NaN   \n",
       "861                  NaN                NaN                NaN          NaN   \n",
       "\n",
       "     err_for_hf  err_for_hka  err_for_copd  err_for_cabg  white  black  asian  \\\n",
       "51          NaN          NaN           NaN           NaN    NaN    NaN    NaN   \n",
       "87          NaN          NaN           NaN           NaN    NaN    NaN    NaN   \n",
       "168         NaN          NaN           NaN           NaN    NaN    NaN    NaN   \n",
       "258         NaN          NaN           NaN           NaN    NaN    NaN    NaN   \n",
       "312         NaN          NaN           NaN           NaN    NaN    NaN    NaN   \n",
       "411         NaN          NaN           NaN           NaN    NaN    NaN    NaN   \n",
       "726         NaN          NaN           NaN           NaN    NaN    NaN    NaN   \n",
       "771       0.972          NaN        0.9944           NaN    NaN    NaN    NaN   \n",
       "807         NaN          NaN           NaN           NaN    NaN    NaN    NaN   \n",
       "861         NaN          NaN           NaN           NaN    NaN    NaN    NaN   \n",
       "\n",
       "     hispanic  per_cap_inc  unemployment  bachelor_or_higher  \n",
       "51        NaN          NaN           NaN                 NaN  \n",
       "87        NaN          NaN           NaN                 NaN  \n",
       "168       NaN          NaN           NaN                 NaN  \n",
       "258       NaN          NaN           NaN                 NaN  \n",
       "312       NaN          NaN           NaN                 NaN  \n",
       "411       NaN          NaN           NaN                 NaN  \n",
       "726       NaN          NaN           NaN                 NaN  \n",
       "771       NaN          NaN           NaN                 NaN  \n",
       "807       NaN          NaN           NaN                 NaN  \n",
       "861       NaN          NaN           NaN                 NaN  "
      ]
     },
     "execution_count": 12,
     "metadata": {},
     "output_type": "execute_result"
    }
   ],
   "source": [
    "# checking for observations where both columns are null\n",
    "df.query('expanded_2014.isnull() & state_abbreviation.isnull()', engine='python').head(10)"
   ]
  },
  {
   "cell_type": "markdown",
   "id": "b987ca8f",
   "metadata": {},
   "source": [
    "This coincides with observations with mostly missing information. There is some readmission rates that could still be useful so we'll drop columns that don't have any readmission rates."
   ]
  },
  {
   "cell_type": "code",
   "execution_count": 13,
   "id": "60a12840",
   "metadata": {
    "scrolled": true
   },
   "outputs": [
    {
     "data": {
      "text/html": [
       "<div>\n",
       "<style scoped>\n",
       "    .dataframe tbody tr th:only-of-type {\n",
       "        vertical-align: middle;\n",
       "    }\n",
       "\n",
       "    .dataframe tbody tr th {\n",
       "        vertical-align: top;\n",
       "    }\n",
       "\n",
       "    .dataframe thead th {\n",
       "        text-align: right;\n",
       "    }\n",
       "</style>\n",
       "<table border=\"1\" class=\"dataframe\">\n",
       "  <thead>\n",
       "    <tr style=\"text-align: right;\">\n",
       "      <th></th>\n",
       "      <th>hospital_ccn</th>\n",
       "      <th>year</th>\n",
       "      <th>state_abbreviation</th>\n",
       "      <th>cms_region_code</th>\n",
       "      <th>ruca</th>\n",
       "      <th>ownership_forprofit</th>\n",
       "      <th>ownership_government</th>\n",
       "      <th>cah</th>\n",
       "      <th>beds</th>\n",
       "      <th>expanded_2014</th>\n",
       "      <th>ownership_nonprofit</th>\n",
       "      <th>teaching_hospital</th>\n",
       "      <th>err_for_pneumonia</th>\n",
       "      <th>err_for_ami</th>\n",
       "      <th>err_for_hf</th>\n",
       "      <th>err_for_hka</th>\n",
       "      <th>err_for_copd</th>\n",
       "      <th>err_for_cabg</th>\n",
       "      <th>white</th>\n",
       "      <th>black</th>\n",
       "      <th>asian</th>\n",
       "      <th>hispanic</th>\n",
       "      <th>per_cap_inc</th>\n",
       "      <th>unemployment</th>\n",
       "      <th>bachelor_or_higher</th>\n",
       "    </tr>\n",
       "  </thead>\n",
       "  <tbody>\n",
       "    <tr>\n",
       "      <th>51</th>\n",
       "      <td>10009</td>\n",
       "      <td>2019</td>\n",
       "      <td>NaN</td>\n",
       "      <td>NaN</td>\n",
       "      <td>1.0</td>\n",
       "      <td>NaN</td>\n",
       "      <td>NaN</td>\n",
       "      <td>0</td>\n",
       "      <td>NaN</td>\n",
       "      <td>NaN</td>\n",
       "      <td>NaN</td>\n",
       "      <td>NaN</td>\n",
       "      <td>NaN</td>\n",
       "      <td>NaN</td>\n",
       "      <td>NaN</td>\n",
       "      <td>NaN</td>\n",
       "      <td>NaN</td>\n",
       "      <td>NaN</td>\n",
       "      <td>NaN</td>\n",
       "      <td>NaN</td>\n",
       "      <td>NaN</td>\n",
       "      <td>NaN</td>\n",
       "      <td>NaN</td>\n",
       "      <td>NaN</td>\n",
       "      <td>NaN</td>\n",
       "    </tr>\n",
       "    <tr>\n",
       "      <th>60</th>\n",
       "      <td>10010</td>\n",
       "      <td>2019</td>\n",
       "      <td>AL</td>\n",
       "      <td>NaN</td>\n",
       "      <td>1.0</td>\n",
       "      <td>NaN</td>\n",
       "      <td>NaN</td>\n",
       "      <td>0</td>\n",
       "      <td>NaN</td>\n",
       "      <td>False</td>\n",
       "      <td>NaN</td>\n",
       "      <td>NaN</td>\n",
       "      <td>NaN</td>\n",
       "      <td>NaN</td>\n",
       "      <td>NaN</td>\n",
       "      <td>NaN</td>\n",
       "      <td>NaN</td>\n",
       "      <td>NaN</td>\n",
       "      <td>0.788864</td>\n",
       "      <td>0.146487</td>\n",
       "      <td>0.059417</td>\n",
       "      <td>0.014948</td>\n",
       "      <td>36563.00</td>\n",
       "      <td>0.030441</td>\n",
       "      <td>0.224589</td>\n",
       "    </tr>\n",
       "    <tr>\n",
       "      <th>87</th>\n",
       "      <td>10015</td>\n",
       "      <td>2019</td>\n",
       "      <td>NaN</td>\n",
       "      <td>NaN</td>\n",
       "      <td>1.0</td>\n",
       "      <td>NaN</td>\n",
       "      <td>NaN</td>\n",
       "      <td>0</td>\n",
       "      <td>NaN</td>\n",
       "      <td>NaN</td>\n",
       "      <td>NaN</td>\n",
       "      <td>NaN</td>\n",
       "      <td>NaN</td>\n",
       "      <td>NaN</td>\n",
       "      <td>NaN</td>\n",
       "      <td>NaN</td>\n",
       "      <td>NaN</td>\n",
       "      <td>NaN</td>\n",
       "      <td>NaN</td>\n",
       "      <td>NaN</td>\n",
       "      <td>NaN</td>\n",
       "      <td>NaN</td>\n",
       "      <td>NaN</td>\n",
       "      <td>NaN</td>\n",
       "      <td>NaN</td>\n",
       "    </tr>\n",
       "    <tr>\n",
       "      <th>105</th>\n",
       "      <td>10018</td>\n",
       "      <td>2019</td>\n",
       "      <td>AL</td>\n",
       "      <td>4.0</td>\n",
       "      <td>1.0</td>\n",
       "      <td>0.0</td>\n",
       "      <td>1.0</td>\n",
       "      <td>0</td>\n",
       "      <td>6.0</td>\n",
       "      <td>False</td>\n",
       "      <td>0.0</td>\n",
       "      <td>1.0</td>\n",
       "      <td>NaN</td>\n",
       "      <td>NaN</td>\n",
       "      <td>NaN</td>\n",
       "      <td>NaN</td>\n",
       "      <td>NaN</td>\n",
       "      <td>NaN</td>\n",
       "      <td>0.445045</td>\n",
       "      <td>0.413560</td>\n",
       "      <td>0.072049</td>\n",
       "      <td>0.033031</td>\n",
       "      <td>8614.00</td>\n",
       "      <td>0.154301</td>\n",
       "      <td>0.110875</td>\n",
       "    </tr>\n",
       "    <tr>\n",
       "      <th>159</th>\n",
       "      <td>10025</td>\n",
       "      <td>2019</td>\n",
       "      <td>AL</td>\n",
       "      <td>NaN</td>\n",
       "      <td>1.0</td>\n",
       "      <td>NaN</td>\n",
       "      <td>NaN</td>\n",
       "      <td>0</td>\n",
       "      <td>NaN</td>\n",
       "      <td>False</td>\n",
       "      <td>NaN</td>\n",
       "      <td>NaN</td>\n",
       "      <td>NaN</td>\n",
       "      <td>NaN</td>\n",
       "      <td>NaN</td>\n",
       "      <td>NaN</td>\n",
       "      <td>NaN</td>\n",
       "      <td>NaN</td>\n",
       "      <td>0.675624</td>\n",
       "      <td>0.321214</td>\n",
       "      <td>0.000000</td>\n",
       "      <td>0.053114</td>\n",
       "      <td>25391.00</td>\n",
       "      <td>0.051517</td>\n",
       "      <td>0.089472</td>\n",
       "    </tr>\n",
       "    <tr>\n",
       "      <th>...</th>\n",
       "      <td>...</td>\n",
       "      <td>...</td>\n",
       "      <td>...</td>\n",
       "      <td>...</td>\n",
       "      <td>...</td>\n",
       "      <td>...</td>\n",
       "      <td>...</td>\n",
       "      <td>...</td>\n",
       "      <td>...</td>\n",
       "      <td>...</td>\n",
       "      <td>...</td>\n",
       "      <td>...</td>\n",
       "      <td>...</td>\n",
       "      <td>...</td>\n",
       "      <td>...</td>\n",
       "      <td>...</td>\n",
       "      <td>...</td>\n",
       "      <td>...</td>\n",
       "      <td>...</td>\n",
       "      <td>...</td>\n",
       "      <td>...</td>\n",
       "      <td>...</td>\n",
       "      <td>...</td>\n",
       "      <td>...</td>\n",
       "      <td>...</td>\n",
       "    </tr>\n",
       "    <tr>\n",
       "      <th>33153</th>\n",
       "      <td>670121</td>\n",
       "      <td>2019</td>\n",
       "      <td>TX</td>\n",
       "      <td>NaN</td>\n",
       "      <td>NaN</td>\n",
       "      <td>1.0</td>\n",
       "      <td>0.0</td>\n",
       "      <td>0</td>\n",
       "      <td>23.0</td>\n",
       "      <td>False</td>\n",
       "      <td>0.0</td>\n",
       "      <td>0.0</td>\n",
       "      <td>NaN</td>\n",
       "      <td>NaN</td>\n",
       "      <td>NaN</td>\n",
       "      <td>NaN</td>\n",
       "      <td>NaN</td>\n",
       "      <td>NaN</td>\n",
       "      <td>0.837253</td>\n",
       "      <td>0.047507</td>\n",
       "      <td>0.030574</td>\n",
       "      <td>0.129821</td>\n",
       "      <td>38956.00</td>\n",
       "      <td>0.024590</td>\n",
       "      <td>0.332314</td>\n",
       "    </tr>\n",
       "    <tr>\n",
       "      <th>33162</th>\n",
       "      <td>670122</td>\n",
       "      <td>2019</td>\n",
       "      <td>TX</td>\n",
       "      <td>NaN</td>\n",
       "      <td>1.1</td>\n",
       "      <td>0.0</td>\n",
       "      <td>0.0</td>\n",
       "      <td>0</td>\n",
       "      <td>186.0</td>\n",
       "      <td>False</td>\n",
       "      <td>1.0</td>\n",
       "      <td>0.0</td>\n",
       "      <td>NaN</td>\n",
       "      <td>NaN</td>\n",
       "      <td>NaN</td>\n",
       "      <td>NaN</td>\n",
       "      <td>NaN</td>\n",
       "      <td>NaN</td>\n",
       "      <td>0.777247</td>\n",
       "      <td>0.071087</td>\n",
       "      <td>0.058454</td>\n",
       "      <td>0.284087</td>\n",
       "      <td>35946.00</td>\n",
       "      <td>0.048676</td>\n",
       "      <td>0.254107</td>\n",
       "    </tr>\n",
       "    <tr>\n",
       "      <th>33171</th>\n",
       "      <td>670124</td>\n",
       "      <td>2019</td>\n",
       "      <td>TX</td>\n",
       "      <td>NaN</td>\n",
       "      <td>NaN</td>\n",
       "      <td>1.0</td>\n",
       "      <td>0.0</td>\n",
       "      <td>0</td>\n",
       "      <td>16.0</td>\n",
       "      <td>False</td>\n",
       "      <td>0.0</td>\n",
       "      <td>0.0</td>\n",
       "      <td>NaN</td>\n",
       "      <td>NaN</td>\n",
       "      <td>NaN</td>\n",
       "      <td>NaN</td>\n",
       "      <td>NaN</td>\n",
       "      <td>NaN</td>\n",
       "      <td>2.715353</td>\n",
       "      <td>0.602957</td>\n",
       "      <td>0.162679</td>\n",
       "      <td>1.426343</td>\n",
       "      <td>16752.75</td>\n",
       "      <td>0.250149</td>\n",
       "      <td>0.239761</td>\n",
       "    </tr>\n",
       "    <tr>\n",
       "      <th>33180</th>\n",
       "      <td>670128</td>\n",
       "      <td>2019</td>\n",
       "      <td>NaN</td>\n",
       "      <td>NaN</td>\n",
       "      <td>NaN</td>\n",
       "      <td>0.0</td>\n",
       "      <td>0.0</td>\n",
       "      <td>0</td>\n",
       "      <td>25.0</td>\n",
       "      <td>NaN</td>\n",
       "      <td>1.0</td>\n",
       "      <td>0.0</td>\n",
       "      <td>NaN</td>\n",
       "      <td>NaN</td>\n",
       "      <td>NaN</td>\n",
       "      <td>NaN</td>\n",
       "      <td>NaN</td>\n",
       "      <td>NaN</td>\n",
       "      <td>NaN</td>\n",
       "      <td>NaN</td>\n",
       "      <td>NaN</td>\n",
       "      <td>NaN</td>\n",
       "      <td>NaN</td>\n",
       "      <td>NaN</td>\n",
       "      <td>NaN</td>\n",
       "    </tr>\n",
       "    <tr>\n",
       "      <th>33189</th>\n",
       "      <td>670899</td>\n",
       "      <td>2019</td>\n",
       "      <td>NaN</td>\n",
       "      <td>NaN</td>\n",
       "      <td>NaN</td>\n",
       "      <td>NaN</td>\n",
       "      <td>NaN</td>\n",
       "      <td>0</td>\n",
       "      <td>NaN</td>\n",
       "      <td>NaN</td>\n",
       "      <td>NaN</td>\n",
       "      <td>NaN</td>\n",
       "      <td>NaN</td>\n",
       "      <td>NaN</td>\n",
       "      <td>NaN</td>\n",
       "      <td>NaN</td>\n",
       "      <td>NaN</td>\n",
       "      <td>NaN</td>\n",
       "      <td>NaN</td>\n",
       "      <td>NaN</td>\n",
       "      <td>NaN</td>\n",
       "      <td>NaN</td>\n",
       "      <td>NaN</td>\n",
       "      <td>NaN</td>\n",
       "      <td>NaN</td>\n",
       "    </tr>\n",
       "  </tbody>\n",
       "</table>\n",
       "<p>515 rows × 25 columns</p>\n",
       "</div>"
      ],
      "text/plain": [
       "       hospital_ccn  year state_abbreviation  cms_region_code  ruca  \\\n",
       "51            10009  2019                NaN              NaN   1.0   \n",
       "60            10010  2019                 AL              NaN   1.0   \n",
       "87            10015  2019                NaN              NaN   1.0   \n",
       "105           10018  2019                 AL              4.0   1.0   \n",
       "159           10025  2019                 AL              NaN   1.0   \n",
       "...             ...   ...                ...              ...   ...   \n",
       "33153        670121  2019                 TX              NaN   NaN   \n",
       "33162        670122  2019                 TX              NaN   1.1   \n",
       "33171        670124  2019                 TX              NaN   NaN   \n",
       "33180        670128  2019                NaN              NaN   NaN   \n",
       "33189        670899  2019                NaN              NaN   NaN   \n",
       "\n",
       "       ownership_forprofit  ownership_government  cah   beds expanded_2014  \\\n",
       "51                     NaN                   NaN    0    NaN           NaN   \n",
       "60                     NaN                   NaN    0    NaN         False   \n",
       "87                     NaN                   NaN    0    NaN           NaN   \n",
       "105                    0.0                   1.0    0    6.0         False   \n",
       "159                    NaN                   NaN    0    NaN         False   \n",
       "...                    ...                   ...  ...    ...           ...   \n",
       "33153                  1.0                   0.0    0   23.0         False   \n",
       "33162                  0.0                   0.0    0  186.0         False   \n",
       "33171                  1.0                   0.0    0   16.0         False   \n",
       "33180                  0.0                   0.0    0   25.0           NaN   \n",
       "33189                  NaN                   NaN    0    NaN           NaN   \n",
       "\n",
       "       ownership_nonprofit  teaching_hospital  err_for_pneumonia  err_for_ami  \\\n",
       "51                     NaN                NaN                NaN          NaN   \n",
       "60                     NaN                NaN                NaN          NaN   \n",
       "87                     NaN                NaN                NaN          NaN   \n",
       "105                    0.0                1.0                NaN          NaN   \n",
       "159                    NaN                NaN                NaN          NaN   \n",
       "...                    ...                ...                ...          ...   \n",
       "33153                  0.0                0.0                NaN          NaN   \n",
       "33162                  1.0                0.0                NaN          NaN   \n",
       "33171                  0.0                0.0                NaN          NaN   \n",
       "33180                  1.0                0.0                NaN          NaN   \n",
       "33189                  NaN                NaN                NaN          NaN   \n",
       "\n",
       "       err_for_hf  err_for_hka  err_for_copd  err_for_cabg     white  \\\n",
       "51            NaN          NaN           NaN           NaN       NaN   \n",
       "60            NaN          NaN           NaN           NaN  0.788864   \n",
       "87            NaN          NaN           NaN           NaN       NaN   \n",
       "105           NaN          NaN           NaN           NaN  0.445045   \n",
       "159           NaN          NaN           NaN           NaN  0.675624   \n",
       "...           ...          ...           ...           ...       ...   \n",
       "33153         NaN          NaN           NaN           NaN  0.837253   \n",
       "33162         NaN          NaN           NaN           NaN  0.777247   \n",
       "33171         NaN          NaN           NaN           NaN  2.715353   \n",
       "33180         NaN          NaN           NaN           NaN       NaN   \n",
       "33189         NaN          NaN           NaN           NaN       NaN   \n",
       "\n",
       "          black     asian  hispanic  per_cap_inc  unemployment  \\\n",
       "51          NaN       NaN       NaN          NaN           NaN   \n",
       "60     0.146487  0.059417  0.014948     36563.00      0.030441   \n",
       "87          NaN       NaN       NaN          NaN           NaN   \n",
       "105    0.413560  0.072049  0.033031      8614.00      0.154301   \n",
       "159    0.321214  0.000000  0.053114     25391.00      0.051517   \n",
       "...         ...       ...       ...          ...           ...   \n",
       "33153  0.047507  0.030574  0.129821     38956.00      0.024590   \n",
       "33162  0.071087  0.058454  0.284087     35946.00      0.048676   \n",
       "33171  0.602957  0.162679  1.426343     16752.75      0.250149   \n",
       "33180       NaN       NaN       NaN          NaN           NaN   \n",
       "33189       NaN       NaN       NaN          NaN           NaN   \n",
       "\n",
       "       bachelor_or_higher  \n",
       "51                    NaN  \n",
       "60               0.224589  \n",
       "87                    NaN  \n",
       "105              0.110875  \n",
       "159              0.089472  \n",
       "...                   ...  \n",
       "33153            0.332314  \n",
       "33162            0.254107  \n",
       "33171            0.239761  \n",
       "33180                 NaN  \n",
       "33189                 NaN  \n",
       "\n",
       "[515 rows x 25 columns]"
      ]
     },
     "execution_count": 13,
     "metadata": {},
     "output_type": "execute_result"
    }
   ],
   "source": [
    "# checking for observations where all ERR are null\n",
    "df.query('err_for_pneumonia.isnull() & err_for_ami.isnull() & err_for_hf.isnull() & err_for_hka.isnull() & err_for_copd.isnull() & err_for_cabg.isnull()',\n",
    "         engine='python')"
   ]
  },
  {
   "cell_type": "markdown",
   "id": "72cdc347",
   "metadata": {},
   "source": [
    "We'd lose other variables that could add to the analysis so will not drop even if not ERRs are presents since our outcome variable will already be narrowing down our observations. But we can drop columns that have only the `hospital_ccn` , `year`, `ccn` columns"
   ]
  },
  {
   "cell_type": "code",
   "execution_count": 14,
   "id": "b01c5b32",
   "metadata": {
    "scrolled": false
   },
   "outputs": [
    {
     "data": {
      "text/plain": [
       "(3688, 25)"
      ]
     },
     "execution_count": 14,
     "metadata": {},
     "output_type": "execute_result"
    }
   ],
   "source": [
    "df.shape"
   ]
  },
  {
   "cell_type": "code",
   "execution_count": 15,
   "id": "8ab8d589",
   "metadata": {},
   "outputs": [
    {
     "data": {
      "text/plain": [
       "(3488, 25)"
      ]
     },
     "execution_count": 15,
     "metadata": {},
     "output_type": "execute_result"
    }
   ],
   "source": [
    "# 25 columns. 3 columns have no missing.\n",
    "df = df.dropna(thresh=4)\n",
    "\n",
    "df.shape"
   ]
  },
  {
   "cell_type": "markdown",
   "id": "ff5a72f7",
   "metadata": {},
   "source": [
    "#### Independent variable missing values will be addressed during the pre-processing stage (as per instructions)."
   ]
  },
  {
   "cell_type": "markdown",
   "id": "c746344d",
   "metadata": {},
   "source": [
    "### Exploratory Visual Analysis"
   ]
  },
  {
   "cell_type": "code",
   "execution_count": 16,
   "id": "e6c03f60",
   "metadata": {
    "scrolled": true
   },
   "outputs": [
    {
     "data": {
      "image/png": "[encoded data removed]",
      "text/plain": [
       "<Figure size 432x288 with 1 Axes>"
      ]
     },
     "metadata": {
      "needs_background": "light"
     },
     "output_type": "display_data"
    }
   ],
   "source": [
    "df.err_for_pneumonia.hist(bins=100)\n",
    "plt.title('Distribution of Excess Readmission Ratio (ERR) for Penumonia (PN) in 2019')\n",
    "plt.xlabel('ERR for PN')\n",
    "plt.ylabel('Records of Reporting Hospitals')\n",
    "plt.show()"
   ]
  },
  {
   "cell_type": "markdown",
   "id": "44291405",
   "metadata": {},
   "source": [
    "Relatively balanced distribution. Expected middle peak since these are rates are ratios calculated in relation to other hospital's performance. Slightly skewed to the left with a few outliers on the right showing the worst performers."
   ]
  },
  {
   "cell_type": "markdown",
   "id": "9b89800c",
   "metadata": {},
   "source": [
    "#### We can contrast that with the ERR for Hip and Knee Arthroplasty"
   ]
  },
  {
   "cell_type": "code",
   "execution_count": 17,
   "id": "a0a73a0b",
   "metadata": {},
   "outputs": [
    {
     "data": {
      "image/png": "[encoded data removed]",
      "text/plain": [
       "<Figure size 432x288 with 1 Axes>"
      ]
     },
     "metadata": {
      "needs_background": "light"
     },
     "output_type": "display_data"
    }
   ],
   "source": [
    "df.err_for_hka.hist(bins=100)\n",
    "plt.title('Distribution of Excess Readmission Ratio (ERR) for Hip & Knee Arthoplasty (HKA/TKA) in 2019')\n",
    "plt.xlabel('ERR for HKA/TKA')\n",
    "plt.ylabel('Records of Reporting Hospitals')\n",
    "plt.show()"
   ]
  },
  {
   "cell_type": "markdown",
   "id": "5f00f495",
   "metadata": {},
   "source": [
    "Similar overall distribution but with a more narrow peak due to the smaller sample size."
   ]
  },
  {
   "cell_type": "code",
   "execution_count": 18,
   "id": "2bc716df",
   "metadata": {},
   "outputs": [
    {
     "name": "stdout",
     "output_type": "stream",
     "text": [
      "Missing observations for pneumonia: 435\n",
      "Missing observations for total knee and hip arthoplasty: 676\n"
     ]
    }
   ],
   "source": [
    "miss_pn = df['err_for_pneumonia'].isna().sum()\n",
    "miss_hka = df['err_for_hka'].isna().sum()\n",
    "print(f'Missing observations for pneumonia: {miss_pn}')\n",
    "print(f'Missing observations for total knee and hip arthoplasty: {miss_hka}')"
   ]
  },
  {
   "cell_type": "code",
   "execution_count": 19,
   "id": "6a7e622c",
   "metadata": {
    "scrolled": true
   },
   "outputs": [
    {
     "data": {
      "text/plain": [
       "count    3053.000000\n",
       "mean        1.001974\n",
       "std         0.078273\n",
       "min         0.761000\n",
       "25%         0.951000\n",
       "50%         0.996600\n",
       "75%         1.048400\n",
       "max         1.380100\n",
       "Name: err_for_pneumonia, dtype: float64"
      ]
     },
     "execution_count": 19,
     "metadata": {},
     "output_type": "execute_result"
    }
   ],
   "source": [
    "df.err_for_pneumonia.describe()"
   ]
  },
  {
   "cell_type": "markdown",
   "id": "762a0e2f",
   "metadata": {},
   "source": [
    "The mean is around 1 which confirms that the way CMS calculates ERR is in alignment with its policy for penalizing hospitals. ERRs below 1 show a below than average readmission rate while ERRs above 1 demonstrate an above average readmission rate. The higher the ERR the worse the hospital is doing."
   ]
  },
  {
   "cell_type": "code",
   "execution_count": 20,
   "id": "07722b6e",
   "metadata": {},
   "outputs": [
    {
     "data": {
      "image/png": "[encoded data removed]",
      "text/plain": [
       "<Figure size 432x288 with 1 Axes>"
      ]
     },
     "metadata": {
      "needs_background": "light"
     },
     "output_type": "display_data"
    }
   ],
   "source": [
    "# identifying outliers\n",
    "\n",
    "sns.boxplot(x=df['err_for_pneumonia']);"
   ]
  },
  {
   "cell_type": "markdown",
   "id": "3577d185",
   "metadata": {},
   "source": [
    "It's important that ERR calculations aim to identify outliers to both penalize and rewards. Our modeling should do its best to account for outliers instead of removing them totally."
   ]
  },
  {
   "cell_type": "markdown",
   "id": "1b2f5e9a",
   "metadata": {},
   "source": [
    "### Our analysis goal is to see whether the ERR of pneumonia is predictable based on other parameters. A meaningful classification would be on the basis of the CMS cutoff of 1 as a measure of performance. "
   ]
  },
  {
   "cell_type": "markdown",
   "id": "4affce12",
   "metadata": {},
   "source": [
    "#### binarizing target variable"
   ]
  },
  {
   "cell_type": "code",
   "execution_count": 21,
   "id": "2ccfa198",
   "metadata": {},
   "outputs": [],
   "source": [
    "# creating a column for the binary outcome \n",
    "df['binary_pn'] = df['err_for_pneumonia']\n",
    "\n",
    "# if the ERR is above 1 plus one standard dev then our target outcome is 1\n",
    "df.loc[df['err_for_pneumonia'] > 1.08, 'binary_pn'] = 1\n",
    "\n",
    "# otherwise zero. Doing this to account for missing\n",
    "df.loc[df['err_for_pneumonia'] <= 1.08, 'binary_pn'] = 0"
   ]
  },
  {
   "cell_type": "code",
   "execution_count": 22,
   "id": "c788141e",
   "metadata": {},
   "outputs": [],
   "source": [
    "# creating a column for the binary outcome \n",
    "df['binary_pn'] = df['err_for_pneumonia']\n",
    "\n",
    "# if the ERR is above 1 then our target outcome is 1\n",
    "df.loc[df['err_for_pneumonia'] > 1, 'binary_pn'] = 1\n",
    "\n",
    "# otherwise zero. Doing this to account for missing\n",
    "df.loc[df['err_for_pneumonia'] <= 1, 'binary_pn'] = 0"
   ]
  },
  {
   "cell_type": "code",
   "execution_count": 23,
   "id": "6eb886a4",
   "metadata": {
    "scrolled": true
   },
   "outputs": [
    {
     "data": {
      "text/plain": [
       "435"
      ]
     },
     "execution_count": 23,
     "metadata": {},
     "output_type": "execute_result"
    }
   ],
   "source": [
    "# checking conversion of column\n",
    "# same number of missing\n",
    "df['binary_pn'].isna().sum()"
   ]
  },
  {
   "cell_type": "code",
   "execution_count": 24,
   "id": "8ede5c3a",
   "metadata": {
    "scrolled": true
   },
   "outputs": [
    {
     "data": {
      "text/plain": [
       "435"
      ]
     },
     "execution_count": 24,
     "metadata": {},
     "output_type": "execute_result"
    }
   ],
   "source": [
    "# same number of missing\n",
    "df['err_for_pneumonia'].isna().sum()"
   ]
  },
  {
   "cell_type": "code",
   "execution_count": 25,
   "id": "caa46d9a",
   "metadata": {},
   "outputs": [
    {
     "data": {
      "image/png": "[encoded data removed]",
      "text/plain": [
       "<Figure size 432x288 with 1 Axes>"
      ]
     },
     "metadata": {
      "needs_background": "light"
     },
     "output_type": "display_data"
    }
   ],
   "source": [
    "df['binary_pn'].value_counts().plot.bar()\n",
    "plt.title('Distribution of Pneumonia ERRs Above and Below 1')\n",
    "plt.xlabel('Binary Outcome of Pneumonia ERR')\n",
    "plt.ylabel('Observations')\n",
    "plt.show()"
   ]
  },
  {
   "cell_type": "markdown",
   "id": "ab2f974a",
   "metadata": {},
   "source": [
    "Slightly imbalanced distribution. Not significant enough to cause any issues when modeling. The goal of the analysis means we want to better identify those with a higher ERR than 1 which we'll keep in mind during model evaluation."
   ]
  },
  {
   "cell_type": "code",
   "execution_count": 26,
   "id": "e025eae0",
   "metadata": {},
   "outputs": [
    {
     "data": {
      "text/plain": [
       "0.0    1591\n",
       "1.0    1462\n",
       "Name: binary_pn, dtype: int64"
      ]
     },
     "execution_count": 26,
     "metadata": {},
     "output_type": "execute_result"
    }
   ],
   "source": [
    "df['binary_pn'].value_counts()"
   ]
  },
  {
   "cell_type": "markdown",
   "id": "479e775a",
   "metadata": {},
   "source": [
    "#### Missing value for target variable shouldn't be imputed so dropping if outcome is missing."
   ]
  },
  {
   "cell_type": "code",
   "execution_count": 27,
   "id": "6474b86e",
   "metadata": {},
   "outputs": [
    {
     "data": {
      "text/plain": [
       "(3053, 26)"
      ]
     },
     "execution_count": 27,
     "metadata": {},
     "output_type": "execute_result"
    }
   ],
   "source": [
    "df = df.dropna(subset=['binary_pn'])\n",
    "df.shape"
   ]
  },
  {
   "cell_type": "markdown",
   "id": "b30d3916",
   "metadata": {},
   "source": [
    "#### checking for multicollinearity"
   ]
  },
  {
   "cell_type": "code",
   "execution_count": 28,
   "id": "ecc5c1c7",
   "metadata": {},
   "outputs": [],
   "source": [
    "#for further EDA\n",
    "num_var_x = ['beds','unemployment','bachelor_or_higher', 'per_cap_inc',\n",
    "               'white','black','asian','hispanic',\n",
    "               'err_for_pneumonia','err_for_ami','err_for_hf',\n",
    "               'err_for_hka','err_for_copd','err_for_cabg']\n"
   ]
  },
  {
   "cell_type": "code",
   "execution_count": 29,
   "id": "e56860f2",
   "metadata": {},
   "outputs": [
    {
     "data": {
      "image/png": "[encoded data removed]",
      "text/plain": [
       "<Figure size 432x288 with 2 Axes>"
      ]
     },
     "metadata": {
      "needs_background": "light"
     },
     "output_type": "display_data"
    }
   ],
   "source": [
    "sns.heatmap(df[num_var_x].corr())\n",
    "plt.show()"
   ]
  },
  {
   "cell_type": "markdown",
   "id": "655c592a",
   "metadata": {},
   "source": [
    "Some high correlation on the left upper hand side so must look more closely at the highest correlations"
   ]
  },
  {
   "cell_type": "code",
   "execution_count": 30,
   "id": "6ff9c262",
   "metadata": {},
   "outputs": [
    {
     "data": {
      "text/html": [
       "<div>\n",
       "<style scoped>\n",
       "    .dataframe tbody tr th:only-of-type {\n",
       "        vertical-align: middle;\n",
       "    }\n",
       "\n",
       "    .dataframe tbody tr th {\n",
       "        vertical-align: top;\n",
       "    }\n",
       "\n",
       "    .dataframe thead th {\n",
       "        text-align: right;\n",
       "    }\n",
       "</style>\n",
       "<table border=\"1\" class=\"dataframe\">\n",
       "  <thead>\n",
       "    <tr style=\"text-align: right;\">\n",
       "      <th></th>\n",
       "      <th>col1</th>\n",
       "      <th>col2</th>\n",
       "      <th>correlation</th>\n",
       "    </tr>\n",
       "  </thead>\n",
       "  <tbody>\n",
       "    <tr>\n",
       "      <th>32</th>\n",
       "      <td>bachelor_or_higher</td>\n",
       "      <td>white</td>\n",
       "      <td>0.947420</td>\n",
       "    </tr>\n",
       "    <tr>\n",
       "      <th>58</th>\n",
       "      <td>white</td>\n",
       "      <td>bachelor_or_higher</td>\n",
       "      <td>0.947420</td>\n",
       "    </tr>\n",
       "    <tr>\n",
       "      <th>18</th>\n",
       "      <td>unemployment</td>\n",
       "      <td>white</td>\n",
       "      <td>0.903966</td>\n",
       "    </tr>\n",
       "    <tr>\n",
       "      <th>57</th>\n",
       "      <td>white</td>\n",
       "      <td>unemployment</td>\n",
       "      <td>0.903966</td>\n",
       "    </tr>\n",
       "    <tr>\n",
       "      <th>16</th>\n",
       "      <td>unemployment</td>\n",
       "      <td>bachelor_or_higher</td>\n",
       "      <td>0.902754</td>\n",
       "    </tr>\n",
       "    <tr>\n",
       "      <th>29</th>\n",
       "      <td>bachelor_or_higher</td>\n",
       "      <td>unemployment</td>\n",
       "      <td>0.902754</td>\n",
       "    </tr>\n",
       "    <tr>\n",
       "      <th>63</th>\n",
       "      <td>white</td>\n",
       "      <td>hispanic</td>\n",
       "      <td>0.896028</td>\n",
       "    </tr>\n",
       "    <tr>\n",
       "      <th>102</th>\n",
       "      <td>hispanic</td>\n",
       "      <td>white</td>\n",
       "      <td>0.896028</td>\n",
       "    </tr>\n",
       "    <tr>\n",
       "      <th>35</th>\n",
       "      <td>bachelor_or_higher</td>\n",
       "      <td>hispanic</td>\n",
       "      <td>0.810861</td>\n",
       "    </tr>\n",
       "    <tr>\n",
       "      <th>100</th>\n",
       "      <td>hispanic</td>\n",
       "      <td>bachelor_or_higher</td>\n",
       "      <td>0.810861</td>\n",
       "    </tr>\n",
       "    <tr>\n",
       "      <th>19</th>\n",
       "      <td>unemployment</td>\n",
       "      <td>black</td>\n",
       "      <td>0.756800</td>\n",
       "    </tr>\n",
       "    <tr>\n",
       "      <th>71</th>\n",
       "      <td>black</td>\n",
       "      <td>unemployment</td>\n",
       "      <td>0.756800</td>\n",
       "    </tr>\n",
       "  </tbody>\n",
       "</table>\n",
       "</div>"
      ],
      "text/plain": [
       "                   col1                col2  correlation\n",
       "32   bachelor_or_higher               white     0.947420\n",
       "58                white  bachelor_or_higher     0.947420\n",
       "18         unemployment               white     0.903966\n",
       "57                white        unemployment     0.903966\n",
       "16         unemployment  bachelor_or_higher     0.902754\n",
       "29   bachelor_or_higher        unemployment     0.902754\n",
       "63                white            hispanic     0.896028\n",
       "102            hispanic               white     0.896028\n",
       "35   bachelor_or_higher            hispanic     0.810861\n",
       "100            hispanic  bachelor_or_higher     0.810861\n",
       "19         unemployment               black     0.756800\n",
       "71                black        unemployment     0.756800"
      ]
     },
     "execution_count": 30,
     "metadata": {},
     "output_type": "execute_result"
    }
   ],
   "source": [
    "corrs = df[num_var_x].corr().unstack()\n",
    "corrs = pd.DataFrame(corrs)\n",
    "corrs = corrs.reset_index()\n",
    "corrs.columns = ['col1', 'col2', 'correlation']\n",
    "\n",
    "corrs.query('col1 != col2 & correlation >= 0.75').sort_values(by='correlation', ascending=False)"
   ]
  },
  {
   "cell_type": "markdown",
   "id": "ce4af3c2",
   "metadata": {},
   "source": [
    "Race and socioeconomic characteristics such as education and employment are usually connected. This is an unsually high correlation and might confound the model. \n",
    "\n",
    "- `unemployment` and `bachelor_or_higher` (i.e. educational level) are social determinants of health. Factoring in access to healthcare is important to readmission so we'll keep `unemployment`. \n",
    "- `hispanic` which as a minority is in alignment with the `asian` and `black` features. Thus, we can exclude the variable `white` if race is already accounted for in the model as evidenced by it's high collinearity with other variables. "
   ]
  },
  {
   "cell_type": "markdown",
   "id": "4effe9ad",
   "metadata": {},
   "source": [
    "#### Variables for Modeling"
   ]
  },
  {
   "cell_type": "code",
   "execution_count": 31,
   "id": "4f2a838c",
   "metadata": {},
   "outputs": [],
   "source": [
    "df = df.drop(columns=['white','year','state_abbreviation',\n",
    "                      'bachelor_or_higher','err_for_pneumonia',\n",
    "                      'hospital_ccn'\n",
    "                     ])"
   ]
  },
  {
   "cell_type": "code",
   "execution_count": 32,
   "id": "37135976",
   "metadata": {},
   "outputs": [],
   "source": [
    "df['expanded_2014'] = df['expanded_2014'].astype('object')\n",
    "\n",
    "df['cah'] = df['cah'].astype('object')\n",
    "df['teaching_hospital'] = df['teaching_hospital'].astype('object')\n",
    "\n",
    "df['ownership_forprofit'] = df['ownership_forprofit'].astype('object')\n",
    "df['ownership_government'] = df['ownership_government'].astype('object')\n",
    "df['ownership_nonprofit'] = df['ownership_nonprofit'].astype('object')\n",
    "\n",
    "df['cms_region_code'] = df['cms_region_code'].astype('object')\n",
    "df['ruca'] = df['ruca'].astype('object')\n"
   ]
  },
  {
   "cell_type": "code",
   "execution_count": 33,
   "id": "8965caba",
   "metadata": {},
   "outputs": [
    {
     "name": "stdout",
     "output_type": "stream",
     "text": [
      "<class 'pandas.core.frame.DataFrame'>\n",
      "Int64Index: 3053 entries, 6 to 33144\n",
      "Data columns (total 20 columns):\n",
      " #   Column                Non-Null Count  Dtype  \n",
      "---  ------                --------------  -----  \n",
      " 0   cms_region_code       2830 non-null   object \n",
      " 1   ruca                  2941 non-null   object \n",
      " 2   ownership_forprofit   2963 non-null   object \n",
      " 3   ownership_government  2963 non-null   object \n",
      " 4   cah                   3053 non-null   object \n",
      " 5   beds                  2960 non-null   float64\n",
      " 6   expanded_2014         3035 non-null   object \n",
      " 7   ownership_nonprofit   2963 non-null   object \n",
      " 8   teaching_hospital     2957 non-null   object \n",
      " 9   err_for_ami           2918 non-null   float64\n",
      " 10  err_for_hf            3021 non-null   float64\n",
      " 11  err_for_hka           2695 non-null   float64\n",
      " 12  err_for_copd          3027 non-null   float64\n",
      " 13  err_for_cabg          1148 non-null   float64\n",
      " 14  black                 2892 non-null   float64\n",
      " 15  asian                 2892 non-null   float64\n",
      " 16  hispanic              2892 non-null   float64\n",
      " 17  per_cap_inc           2892 non-null   float64\n",
      " 18  unemployment          2892 non-null   float64\n",
      " 19  binary_pn             3053 non-null   float64\n",
      "dtypes: float64(12), object(8)\n",
      "memory usage: 500.9+ KB\n"
     ]
    }
   ],
   "source": [
    "df.info()"
   ]
  },
  {
   "cell_type": "code",
   "execution_count": 34,
   "id": "66857d06",
   "metadata": {
    "scrolled": false
   },
   "outputs": [
    {
     "data": {
      "text/html": [
       "<div>\n",
       "<style scoped>\n",
       "    .dataframe tbody tr th:only-of-type {\n",
       "        vertical-align: middle;\n",
       "    }\n",
       "\n",
       "    .dataframe tbody tr th {\n",
       "        vertical-align: top;\n",
       "    }\n",
       "\n",
       "    .dataframe thead th {\n",
       "        text-align: right;\n",
       "    }\n",
       "</style>\n",
       "<table border=\"1\" class=\"dataframe\">\n",
       "  <thead>\n",
       "    <tr style=\"text-align: right;\">\n",
       "      <th></th>\n",
       "      <th>cms_region_code</th>\n",
       "      <th>ruca</th>\n",
       "      <th>ownership_forprofit</th>\n",
       "      <th>ownership_government</th>\n",
       "      <th>cah</th>\n",
       "      <th>beds</th>\n",
       "      <th>expanded_2014</th>\n",
       "      <th>ownership_nonprofit</th>\n",
       "      <th>teaching_hospital</th>\n",
       "      <th>err_for_ami</th>\n",
       "      <th>err_for_hf</th>\n",
       "      <th>err_for_hka</th>\n",
       "      <th>err_for_copd</th>\n",
       "      <th>err_for_cabg</th>\n",
       "      <th>black</th>\n",
       "      <th>asian</th>\n",
       "      <th>hispanic</th>\n",
       "      <th>per_cap_inc</th>\n",
       "      <th>unemployment</th>\n",
       "      <th>binary_pn</th>\n",
       "    </tr>\n",
       "  </thead>\n",
       "  <tbody>\n",
       "    <tr>\n",
       "      <th>0</th>\n",
       "      <td>4.0</td>\n",
       "      <td>1.0</td>\n",
       "      <td>0.0</td>\n",
       "      <td>1.0</td>\n",
       "      <td>0</td>\n",
       "      <td>332.0</td>\n",
       "      <td>False</td>\n",
       "      <td>0.0</td>\n",
       "      <td>1.0</td>\n",
       "      <td>1.0072</td>\n",
       "      <td>1.0135</td>\n",
       "      <td>1.0468</td>\n",
       "      <td>0.9913</td>\n",
       "      <td>1.1392</td>\n",
       "      <td>0.996801</td>\n",
       "      <td>0.080778</td>\n",
       "      <td>0.048367</td>\n",
       "      <td>25565.0</td>\n",
       "      <td>0.123702</td>\n",
       "      <td>1.0</td>\n",
       "    </tr>\n",
       "    <tr>\n",
       "      <th>1</th>\n",
       "      <td>4.0</td>\n",
       "      <td>4.0</td>\n",
       "      <td>0.0</td>\n",
       "      <td>1.0</td>\n",
       "      <td>0</td>\n",
       "      <td>195.0</td>\n",
       "      <td>False</td>\n",
       "      <td>0.0</td>\n",
       "      <td>0.0</td>\n",
       "      <td>0.9518</td>\n",
       "      <td>1.0288</td>\n",
       "      <td>1.0913</td>\n",
       "      <td>0.9054</td>\n",
       "      <td>NaN</td>\n",
       "      <td>0.774713</td>\n",
       "      <td>0.007986</td>\n",
       "      <td>0.139299</td>\n",
       "      <td>24362.0</td>\n",
       "      <td>0.142012</td>\n",
       "      <td>0.0</td>\n",
       "    </tr>\n",
       "    <tr>\n",
       "      <th>2</th>\n",
       "      <td>4.0</td>\n",
       "      <td>1.0</td>\n",
       "      <td>1.0</td>\n",
       "      <td>0.0</td>\n",
       "      <td>0</td>\n",
       "      <td>223.0</td>\n",
       "      <td>False</td>\n",
       "      <td>0.0</td>\n",
       "      <td>0.0</td>\n",
       "      <td>1.0332</td>\n",
       "      <td>0.9558</td>\n",
       "      <td>1.3032</td>\n",
       "      <td>0.9974</td>\n",
       "      <td>1.1655</td>\n",
       "      <td>0.963170</td>\n",
       "      <td>0.007950</td>\n",
       "      <td>0.421759</td>\n",
       "      <td>19702.5</td>\n",
       "      <td>0.328939</td>\n",
       "      <td>0.0</td>\n",
       "    </tr>\n",
       "    <tr>\n",
       "      <th>3</th>\n",
       "      <td>4.0</td>\n",
       "      <td>7.0</td>\n",
       "      <td>0.0</td>\n",
       "      <td>1.0</td>\n",
       "      <td>0</td>\n",
       "      <td>45.0</td>\n",
       "      <td>False</td>\n",
       "      <td>0.0</td>\n",
       "      <td>0.0</td>\n",
       "      <td>0.9768</td>\n",
       "      <td>1.1313</td>\n",
       "      <td>1.1117</td>\n",
       "      <td>1.0096</td>\n",
       "      <td>NaN</td>\n",
       "      <td>0.465761</td>\n",
       "      <td>0.003241</td>\n",
       "      <td>0.035635</td>\n",
       "      <td>23710.5</td>\n",
       "      <td>0.245147</td>\n",
       "      <td>0.0</td>\n",
       "    </tr>\n",
       "    <tr>\n",
       "      <th>4</th>\n",
       "      <td>4.0</td>\n",
       "      <td>3.0</td>\n",
       "      <td>0.0</td>\n",
       "      <td>1.0</td>\n",
       "      <td>0</td>\n",
       "      <td>29.0</td>\n",
       "      <td>False</td>\n",
       "      <td>0.0</td>\n",
       "      <td>0.0</td>\n",
       "      <td>1.0067</td>\n",
       "      <td>1.0064</td>\n",
       "      <td>NaN</td>\n",
       "      <td>0.9730</td>\n",
       "      <td>NaN</td>\n",
       "      <td>0.212487</td>\n",
       "      <td>0.044964</td>\n",
       "      <td>0.005653</td>\n",
       "      <td>23630.0</td>\n",
       "      <td>0.024217</td>\n",
       "      <td>0.0</td>\n",
       "    </tr>\n",
       "  </tbody>\n",
       "</table>\n",
       "</div>"
      ],
      "text/plain": [
       "  cms_region_code ruca ownership_forprofit ownership_government cah   beds  \\\n",
       "0             4.0  1.0                 0.0                  1.0   0  332.0   \n",
       "1             4.0  4.0                 0.0                  1.0   0  195.0   \n",
       "2             4.0  1.0                 1.0                  0.0   0  223.0   \n",
       "3             4.0  7.0                 0.0                  1.0   0   45.0   \n",
       "4             4.0  3.0                 0.0                  1.0   0   29.0   \n",
       "\n",
       "  expanded_2014 ownership_nonprofit teaching_hospital  err_for_ami  \\\n",
       "0         False                 0.0               1.0       1.0072   \n",
       "1         False                 0.0               0.0       0.9518   \n",
       "2         False                 0.0               0.0       1.0332   \n",
       "3         False                 0.0               0.0       0.9768   \n",
       "4         False                 0.0               0.0       1.0067   \n",
       "\n",
       "   err_for_hf  err_for_hka  err_for_copd  err_for_cabg     black     asian  \\\n",
       "0      1.0135       1.0468        0.9913        1.1392  0.996801  0.080778   \n",
       "1      1.0288       1.0913        0.9054           NaN  0.774713  0.007986   \n",
       "2      0.9558       1.3032        0.9974        1.1655  0.963170  0.007950   \n",
       "3      1.1313       1.1117        1.0096           NaN  0.465761  0.003241   \n",
       "4      1.0064          NaN        0.9730           NaN  0.212487  0.044964   \n",
       "\n",
       "   hispanic  per_cap_inc  unemployment  binary_pn  \n",
       "0  0.048367      25565.0      0.123702        1.0  \n",
       "1  0.139299      24362.0      0.142012        0.0  \n",
       "2  0.421759      19702.5      0.328939        0.0  \n",
       "3  0.035635      23710.5      0.245147        0.0  \n",
       "4  0.005653      23630.0      0.024217        0.0  "
      ]
     },
     "execution_count": 34,
     "metadata": {},
     "output_type": "execute_result"
    }
   ],
   "source": [
    "df = df.reset_index(drop=True)\n",
    "df.head()"
   ]
  },
  {
   "cell_type": "markdown",
   "id": "0d094da5",
   "metadata": {},
   "source": [
    "### Data Processing"
   ]
  },
  {
   "cell_type": "markdown",
   "id": "30e69fad",
   "metadata": {},
   "source": [
    "#### Splitting data"
   ]
  },
  {
   "cell_type": "code",
   "execution_count": 35,
   "id": "5fdf15e5",
   "metadata": {},
   "outputs": [],
   "source": [
    "# creating numerical variables\n",
    "num_var = ['err_for_hf','err_for_hka','err_for_copd','err_for_cabg','err_for_ami',\n",
    "             'black','asian','hispanic',\n",
    "             'per_cap_inc','unemployment']"
   ]
  },
  {
   "cell_type": "code",
   "execution_count": 36,
   "id": "8e52f1db",
   "metadata": {},
   "outputs": [],
   "source": [
    "# creating categorical variables\n",
    "cat_var = ['expanded_2014','cah','teaching_hospital',\n",
    "           'ownership_forprofit','ownership_government','ownership_nonprofit',\n",
    "           'ruca', 'cms_region_code']"
   ]
  },
  {
   "cell_type": "code",
   "execution_count": 37,
   "id": "d157c212",
   "metadata": {
    "scrolled": false
   },
   "outputs": [
    {
     "name": "stdout",
     "output_type": "stream",
     "text": [
      "Training examples: 2442\n",
      "Test examples: 611\n",
      "\n",
      "Feature names:\n",
      "cms_region_code\n",
      "ruca\n",
      "ownership_forprofit\n",
      "ownership_government\n",
      "cah\n",
      "beds\n",
      "expanded_2014\n",
      "ownership_nonprofit\n",
      "teaching_hospital\n",
      "err_for_ami\n",
      "err_for_hf\n",
      "err_for_hka\n",
      "err_for_copd\n",
      "err_for_cabg\n",
      "black\n",
      "asian\n",
      "hispanic\n",
      "per_cap_inc\n",
      "unemployment\n"
     ]
    }
   ],
   "source": [
    "from sklearn.model_selection import train_test_split\n",
    "\n",
    "X = df[[x for x in df.columns if x != 'binary_pn']]\n",
    "y = df['binary_pn']\n",
    "\n",
    "X_train, X_test, y_train, y_test = train_test_split(X, y, test_size=0.2, random_state=1989)\n",
    "\n",
    "print(f'Training examples: {X_train.shape[0]}')\n",
    "print(f'Test examples: {X_test.shape[0]}')\n",
    "print('\\nFeature names:')\n",
    "print(*X.columns, sep='\\n')"
   ]
  },
  {
   "cell_type": "markdown",
   "id": "0acf89ac",
   "metadata": {},
   "source": [
    "#### Feature Processing"
   ]
  },
  {
   "cell_type": "code",
   "execution_count": 38,
   "id": "d790567d",
   "metadata": {},
   "outputs": [],
   "source": [
    "# importing modeling packages\n",
    "from sklearn.impute import SimpleImputer\n",
    "from sklearn.preprocessing import StandardScaler\n",
    "from sklearn.preprocessing import OneHotEncoder\n",
    "from sklearn.pipeline import Pipeline\n",
    "from sklearn.compose import ColumnTransformer"
   ]
  },
  {
   "cell_type": "code",
   "execution_count": 39,
   "id": "dc82869d",
   "metadata": {},
   "outputs": [],
   "source": [
    "num_pipe = Pipeline([('impute', SimpleImputer(strategy='median')), ('scale', StandardScaler())])\n"
   ]
  },
  {
   "cell_type": "code",
   "execution_count": 40,
   "id": "89c00ed0",
   "metadata": {},
   "outputs": [
    {
     "data": {
      "text/plain": [
       "(2442, 10)"
      ]
     },
     "execution_count": 40,
     "metadata": {},
     "output_type": "execute_result"
    }
   ],
   "source": [
    "# checking numerical pipeline\n",
    "num_pipe.fit_transform(X_train[num_var]).shape"
   ]
  },
  {
   "cell_type": "code",
   "execution_count": 41,
   "id": "39b8c5a6",
   "metadata": {
    "scrolled": true
   },
   "outputs": [
    {
     "data": {
      "text/plain": [
       "array([-0.10641853, -0.09034656, -0.00216918, -0.03443125, -0.06556888,\n",
       "       -0.22461388, -0.15389977, -0.21101564, -0.06302125, -0.38872255])"
      ]
     },
     "execution_count": 41,
     "metadata": {},
     "output_type": "execute_result"
    }
   ],
   "source": [
    "num_pipe.fit_transform(X_train[num_var])[0,:]"
   ]
  },
  {
   "cell_type": "markdown",
   "id": "8004148d",
   "metadata": {},
   "source": [
    "Even though most are already in floats we want to make sure, categorical variables are imputed properly"
   ]
  },
  {
   "cell_type": "code",
   "execution_count": 42,
   "id": "28c6f6c2",
   "metadata": {},
   "outputs": [],
   "source": [
    "cat_pipe = Pipeline([('impute_cat', SimpleImputer(strategy='most_frequent')),\n",
    "                     ('ohe', OneHotEncoder(drop='first', handle_unknown='ignore'))])"
   ]
  },
  {
   "cell_type": "code",
   "execution_count": 43,
   "id": "991c1623",
   "metadata": {},
   "outputs": [],
   "source": [
    "cat_pipe = Pipeline([('impute_cat', SimpleImputer(strategy='most_frequent')),\n",
    "                     ('ohe', OneHotEncoder(handle_unknown='ignore'))])"
   ]
  },
  {
   "cell_type": "code",
   "execution_count": 44,
   "id": "63fff617",
   "metadata": {},
   "outputs": [
    {
     "data": {
      "text/plain": [
       "matrix([[1., 0., 1., 0., 0., 1., 0., 1., 1., 0., 1., 0., 1., 0., 0., 0.,\n",
       "         0., 0., 0., 0., 0., 0., 0., 0., 0., 0., 0., 0., 0., 0., 0., 0.,\n",
       "         0., 0., 0., 1., 0., 0., 0., 0.]])"
      ]
     },
     "execution_count": 44,
     "metadata": {},
     "output_type": "execute_result"
    }
   ],
   "source": [
    "# checking categorical pipeline\n",
    "\n",
    "cat_pipe.fit_transform(X_train[cat_var])[0, :].todense()"
   ]
  },
  {
   "cell_type": "code",
   "execution_count": 45,
   "id": "5bea5115",
   "metadata": {
    "scrolled": true
   },
   "outputs": [
    {
     "data": {
      "text/plain": [
       "<2442x40 sparse matrix of type '<class 'numpy.float64'>'\n",
       "\twith 19536 stored elements in Compressed Sparse Row format>"
      ]
     },
     "execution_count": 45,
     "metadata": {},
     "output_type": "execute_result"
    }
   ],
   "source": [
    "cat_pipe.fit_transform(X_train[cat_var])"
   ]
  },
  {
   "cell_type": "markdown",
   "id": "a9d4456a",
   "metadata": {},
   "source": [
    "####  Pre-processing Pipeline"
   ]
  },
  {
   "cell_type": "code",
   "execution_count": 46,
   "id": "05325014",
   "metadata": {
    "scrolled": true
   },
   "outputs": [
    {
     "data": {
      "text/plain": [
       "ColumnTransformer(transformers=[('proc_numeric',\n",
       "                                 Pipeline(steps=[('impute',\n",
       "                                                  SimpleImputer(strategy='median')),\n",
       "                                                 ('scale', StandardScaler())]),\n",
       "                                 ['err_for_hf', 'err_for_hka', 'err_for_copd',\n",
       "                                  'err_for_cabg', 'err_for_ami', 'black',\n",
       "                                  'asian', 'hispanic', 'per_cap_inc',\n",
       "                                  'unemployment']),\n",
       "                                ('create_dummies',\n",
       "                                 Pipeline(steps=[('impute_cat',\n",
       "                                                  SimpleImputer(strategy='most_frequent')),\n",
       "                                                 ('ohe',\n",
       "                                                  OneHotEncoder(handle_unknown='ignore'))]),\n",
       "                                 ['expanded_2014', 'cah', 'teaching_hospital',\n",
       "                                  'ownership_forprofit', 'ownership_government',\n",
       "                                  'ownership_nonprofit', 'ruca',\n",
       "                                  'cms_region_code'])])"
      ]
     },
     "execution_count": 46,
     "metadata": {},
     "output_type": "execute_result"
    }
   ],
   "source": [
    "proc_pipe = ColumnTransformer(transformers=[('proc_numeric', num_pipe, num_var),\n",
    "                                                      ('create_dummies', cat_pipe, cat_var)])\n",
    "\n",
    "proc_pipe"
   ]
  },
  {
   "cell_type": "markdown",
   "id": "95b34782",
   "metadata": {},
   "source": [
    "## Modeling"
   ]
  },
  {
   "cell_type": "markdown",
   "id": "64a60031",
   "metadata": {},
   "source": [
    "The following models are trialed and tuned using GridSearchCV.\n",
    "- Logistic Regression simple, with PCA, and with k-Means\n",
    "- Decision Trees\n",
    "- Random Forests\n",
    "- Support Vector Machines \n",
    "- K-Nearest Neighbor"
   ]
  },
  {
   "cell_type": "markdown",
   "id": "ea63b0d2",
   "metadata": {},
   "source": [
    "### Logistic Regression"
   ]
  },
  {
   "cell_type": "code",
   "execution_count": 47,
   "id": "7a4902eb",
   "metadata": {},
   "outputs": [],
   "source": [
    "from sklearn.model_selection import GridSearchCV\n",
    "import time\n",
    "from sklearn.linear_model import LogisticRegression\n",
    "from sklearn.metrics import classification_report"
   ]
  },
  {
   "cell_type": "code",
   "execution_count": 48,
   "id": "caf5de78",
   "metadata": {},
   "outputs": [
    {
     "name": "stdout",
     "output_type": "stream",
     "text": [
      "1.9029321670532227 seconds\n"
     ]
    },
    {
     "data": {
      "text/plain": [
       "Pipeline(steps=[('fp',\n",
       "                 ColumnTransformer(transformers=[('proc_numeric',\n",
       "                                                  Pipeline(steps=[('impute',\n",
       "                                                                   SimpleImputer(strategy='median')),\n",
       "                                                                  ('scale',\n",
       "                                                                   StandardScaler())]),\n",
       "                                                  ['err_for_hf', 'err_for_hka',\n",
       "                                                   'err_for_copd',\n",
       "                                                   'err_for_cabg',\n",
       "                                                   'err_for_ami', 'black',\n",
       "                                                   'asian', 'hispanic',\n",
       "                                                   'per_cap_inc',\n",
       "                                                   'unemployment']),\n",
       "                                                 ('create_dummies',\n",
       "                                                  Pipeline(steps=[('impute_cat',\n",
       "                                                                   SimpleImputer(strategy='most_frequent')),\n",
       "                                                                  ('ohe',\n",
       "                                                                   OneHotEncoder(handle_unknown='ignore'))]),\n",
       "                                                  ['expanded_2014', 'cah',\n",
       "                                                   'teaching_hospital',\n",
       "                                                   'ownership_forprofit',\n",
       "                                                   'ownership_government',\n",
       "                                                   'ownership_nonprofit',\n",
       "                                                   'ruca',\n",
       "                                                   'cms_region_code'])])),\n",
       "                ('lg',\n",
       "                 LogisticRegression(C=0.001, class_weight='balanced',\n",
       "                                    max_iter=200, solver='liblinear'))])"
      ]
     },
     "execution_count": 48,
     "metadata": {},
     "output_type": "execute_result"
    }
   ],
   "source": [
    "# lg: logistic regression\n",
    "lg_pipe = Pipeline([('fp', proc_pipe),\n",
    "                    ('lg', LogisticRegression(solver='liblinear', max_iter=200))\n",
    "                    ])\n",
    "\n",
    "start = time.time()\n",
    "\n",
    "# setting LG param grid\n",
    "params = {\n",
    "    'lg__C': [0.001, 0.01, 0.1, 1, 10, 100],\n",
    "    'lg__class_weight': [None, 'balanced'],\n",
    "    #'lg__penalty':['l2','none']\n",
    "}\n",
    "\n",
    "model_lg = GridSearchCV(lg_pipe, param_grid = params, scoring='accuracy', cv=5)\n",
    "model_lg = model_lg.fit(X_train, y_train)\n",
    "\n",
    "\n",
    "end = time.time()\n",
    "print(end - start, \"seconds\")\n",
    "\n",
    "model_lg.best_estimator_"
   ]
  },
  {
   "cell_type": "code",
   "execution_count": 49,
   "id": "74f0d481",
   "metadata": {},
   "outputs": [
    {
     "data": {
      "text/plain": [
       "0.6813947835998525"
      ]
     },
     "execution_count": 49,
     "metadata": {},
     "output_type": "execute_result"
    }
   ],
   "source": [
    "model_lg.best_score_"
   ]
  },
  {
   "cell_type": "markdown",
   "id": "dc8ef80f",
   "metadata": {},
   "source": [
    "> Best validation accuracy is ~ 68%. \n",
    "\n",
    "We can search around the best parameters to try to improve upon the model."
   ]
  },
  {
   "cell_type": "code",
   "execution_count": 50,
   "id": "a852f3c0",
   "metadata": {
    "scrolled": false
   },
   "outputs": [
    {
     "data": {
      "text/plain": [
       "Pipeline(steps=[('fp',\n",
       "                 ColumnTransformer(transformers=[('proc_numeric',\n",
       "                                                  Pipeline(steps=[('impute',\n",
       "                                                                   SimpleImputer(strategy='median')),\n",
       "                                                                  ('scale',\n",
       "                                                                   StandardScaler())]),\n",
       "                                                  ['err_for_hf', 'err_for_hka',\n",
       "                                                   'err_for_copd',\n",
       "                                                   'err_for_cabg',\n",
       "                                                   'err_for_ami', 'black',\n",
       "                                                   'asian', 'hispanic',\n",
       "                                                   'per_cap_inc',\n",
       "                                                   'unemployment']),\n",
       "                                                 ('create_dummies',\n",
       "                                                  Pipeline(steps=[('impute_cat',\n",
       "                                                                   SimpleImputer(strategy='most_frequent')),\n",
       "                                                                  ('ohe',\n",
       "                                                                   OneHotEncoder(handle_unknown='ignore'))]),\n",
       "                                                  ['expanded_2014', 'cah',\n",
       "                                                   'teaching_hospital',\n",
       "                                                   'ownership_forprofit',\n",
       "                                                   'ownership_government',\n",
       "                                                   'ownership_nonprofit',\n",
       "                                                   'ruca',\n",
       "                                                   'cms_region_code'])])),\n",
       "                ('lg',\n",
       "                 LogisticRegression(C=0.005, max_iter=200,\n",
       "                                    solver='liblinear'))])"
      ]
     },
     "execution_count": 50,
     "metadata": {},
     "output_type": "execute_result"
    }
   ],
   "source": [
    "# searching lg param grid\n",
    "params = {\n",
    "    'lg__C': [0.001, 0.005, 0.015, 0.0001],\n",
    "    'lg__class_weight': [None, 'balanced'],\n",
    "}\n",
    "\n",
    "model_lg = GridSearchCV(lg_pipe, param_grid = params, scoring='accuracy', cv=5)\n",
    "model_lg = model_lg.fit(X_train, y_train)\n",
    "\n",
    "model_lg.best_estimator_"
   ]
  },
  {
   "cell_type": "code",
   "execution_count": 51,
   "id": "9f5f5c6f",
   "metadata": {},
   "outputs": [
    {
     "data": {
      "text/plain": [
       "0.6813956217104161"
      ]
     },
     "execution_count": 51,
     "metadata": {},
     "output_type": "execute_result"
    }
   ],
   "source": [
    "model_lg.best_score_"
   ]
  },
  {
   "cell_type": "markdown",
   "id": "c4a85d7f",
   "metadata": {},
   "source": [
    "> This did not improve validation accuracy despite increasing the regularization strength. Thus, the highest accuracy for a logistic regression model remains at 68%."
   ]
  },
  {
   "cell_type": "markdown",
   "id": "193bd9ec",
   "metadata": {},
   "source": [
    "### Logistic Regression Model Results"
   ]
  },
  {
   "cell_type": "code",
   "execution_count": 52,
   "id": "cac436a6",
   "metadata": {},
   "outputs": [
    {
     "name": "stdout",
     "output_type": "stream",
     "text": [
      "Logistic Regression Validation score: 68.14%\n",
      "Logistic Regression Full training score: 68.80%\n",
      "Logistic Regression Test score: 67.59%\n"
     ]
    }
   ],
   "source": [
    "print(f'Logistic Regression Validation score: {model_lg.best_score_:.2%}')\n",
    "print(f'Logistic Regression Full training score: {model_lg.score(X_train, y_train):.2%}')\n",
    "print(f'Logistic Regression Test score: {model_lg.score(X_test, y_test):.2%}')"
   ]
  },
  {
   "cell_type": "code",
   "execution_count": 53,
   "id": "efe902c5",
   "metadata": {
    "scrolled": false
   },
   "outputs": [
    {
     "name": "stdout",
     "output_type": "stream",
     "text": [
      "              precision    recall  f1-score   support\n",
      "\n",
      "         0.0       0.67      0.77      0.71       323\n",
      "         1.0       0.69      0.57      0.62       288\n",
      "\n",
      "    accuracy                           0.68       611\n",
      "   macro avg       0.68      0.67      0.67       611\n",
      "weighted avg       0.68      0.68      0.67       611\n",
      "\n"
     ]
    }
   ],
   "source": [
    "print(classification_report(y_test, model_lg.predict(X_test)))"
   ]
  },
  {
   "cell_type": "markdown",
   "id": "bd596f7b",
   "metadata": {},
   "source": [
    "> There is no evidence of overfitting when comparing training and test scores. 67% of the true positives were correctly classified (recall). Accuracy is still a good measure for this classification problem since it is relatively balanced. This percentage of correct predictions is 68% (accuracy)."
   ]
  },
  {
   "cell_type": "code",
   "execution_count": 54,
   "id": "17f0fcac",
   "metadata": {},
   "outputs": [
    {
     "data": {
      "image/png": "[encoded data removed]",
      "text/plain": [
       "<Figure size 432x288 with 1 Axes>"
      ]
     },
     "metadata": {
      "needs_background": "light"
     },
     "output_type": "display_data"
    }
   ],
   "source": [
    "from sklearn.metrics import roc_curve\n",
    "\n",
    "fpr_test, tpr_test, thr_test = roc_curve(y_test, model_lg.predict_proba(X_test)[:,1])\n",
    "fpr_tr, tpr_tr, thr_tr = roc_curve(y_train, model_lg.predict_proba(X_train)[:,1])\n",
    "\n",
    "plt.plot(fpr_test, tpr_test, 'orange')\n",
    "plt.plot(fpr_tr, tpr_tr, 'blue')\n",
    "plt.plot(fpr_tr, fpr_tr, color='green', linestyle='dashed')\n",
    "plt.xlabel('False Positive Rate')\n",
    "plt.ylabel('True Positive Rate')\n",
    "plt.legend(['Test','Training'])\n",
    "plt.show()"
   ]
  },
  {
   "cell_type": "markdown",
   "id": "1b6c33b1",
   "metadata": {},
   "source": [
    "> ROC curve is well-suited for a balanced outcome. As the threshold increases and the number of false positives increase, the number of true positives continues to increase as well. The curve shows the is model not the best at discriminating but is still better than random guessing."
   ]
  },
  {
   "cell_type": "code",
   "execution_count": 55,
   "id": "5b3ff5e0",
   "metadata": {},
   "outputs": [
    {
     "data": {
      "image/png": "[encoded data removed]",
      "text/plain": [
       "<Figure size 432x288 with 1 Axes>"
      ]
     },
     "metadata": {
      "needs_background": "light"
     },
     "output_type": "display_data"
    }
   ],
   "source": [
    "from sklearn.metrics import precision_recall_curve\n",
    "\n",
    "def generate_pr(y, probs):\n",
    "    pr, rec, _ = precision_recall_curve(y, probs)\n",
    "    return pr, rec\n",
    "\n",
    "y_testpr_lg = model_lg.predict_proba(X_test)\n",
    "pr_lr, rec_lr = generate_pr(y_test, y_testpr_lg[:,1])\n",
    "\n",
    "plt.plot(rec_lr, pr_lr,'-ob')\n",
    "plt.xlabel('Recall')\n",
    "plt.ylabel('Precision')\n",
    "plt.legend(['Logistic Regression'])\n",
    "plt.show()"
   ]
  },
  {
   "cell_type": "markdown",
   "id": "87d1b798",
   "metadata": {},
   "source": [
    "> Though no class imbalances. The optimal threshold point for maximal precision and recall trade-off may be slighly lower than the default of 0.5"
   ]
  },
  {
   "cell_type": "markdown",
   "id": "3aa1f5e3",
   "metadata": {},
   "source": [
    "### Decision Tree"
   ]
  },
  {
   "cell_type": "code",
   "execution_count": 56,
   "id": "5c3c1830",
   "metadata": {},
   "outputs": [],
   "source": [
    "from sklearn.tree import DecisionTreeClassifier"
   ]
  },
  {
   "cell_type": "code",
   "execution_count": 57,
   "id": "41fa17ae",
   "metadata": {},
   "outputs": [
    {
     "name": "stdout",
     "output_type": "stream",
     "text": [
      "7.64497709274292 seconds\n"
     ]
    },
    {
     "data": {
      "text/plain": [
       "Pipeline(steps=[('fp',\n",
       "                 ColumnTransformer(transformers=[('proc_numeric',\n",
       "                                                  Pipeline(steps=[('impute',\n",
       "                                                                   SimpleImputer(strategy='median')),\n",
       "                                                                  ('scale',\n",
       "                                                                   StandardScaler())]),\n",
       "                                                  ['err_for_hf', 'err_for_hka',\n",
       "                                                   'err_for_copd',\n",
       "                                                   'err_for_cabg',\n",
       "                                                   'err_for_ami', 'black',\n",
       "                                                   'asian', 'hispanic',\n",
       "                                                   'per_cap_inc',\n",
       "                                                   'unemployment']),\n",
       "                                                 ('create_dummies',\n",
       "                                                  Pipeline(steps=[('impute_cat',\n",
       "                                                                   SimpleImputer(strategy='most_frequent')),\n",
       "                                                                  ('ohe',\n",
       "                                                                   OneHotEncoder(handle_unknown='ignore'))]),\n",
       "                                                  ['expanded_2014', 'cah',\n",
       "                                                   'teaching_hospital',\n",
       "                                                   'ownership_forprofit',\n",
       "                                                   'ownership_government',\n",
       "                                                   'ownership_nonprofit',\n",
       "                                                   'ruca',\n",
       "                                                   'cms_region_code'])])),\n",
       "                ('dt',\n",
       "                 DecisionTreeClassifier(class_weight='balanced', max_depth=4,\n",
       "                                        min_samples_split=0.08))])"
      ]
     },
     "execution_count": 57,
     "metadata": {},
     "output_type": "execute_result"
    }
   ],
   "source": [
    "# dt: decision tree\n",
    "dt_pipe = Pipeline([('fp', proc_pipe),\n",
    "                    ('dt', DecisionTreeClassifier())\n",
    "                    ])\n",
    "\n",
    "start = time.time()\n",
    "\n",
    "# setting dt param grid\n",
    "params = {\n",
    "    'dt__max_depth': [4, 6, 8, 10, 12],\n",
    "    'dt__min_samples_split': [0.01, 0.02, 0.04, 0.06, 0.08],\n",
    "    'dt__class_weight': [None, 'balanced'],\n",
    "}\n",
    "\n",
    "model_dt = GridSearchCV(dt_pipe, param_grid = params, scoring='accuracy', cv=5)\n",
    "model_dt = model_dt.fit(X_train, y_train)\n",
    "\n",
    "\n",
    "end = time.time()\n",
    "print(end - start, \"seconds\")\n",
    "\n",
    "model_dt.best_estimator_"
   ]
  },
  {
   "cell_type": "code",
   "execution_count": 58,
   "id": "a760711b",
   "metadata": {},
   "outputs": [
    {
     "data": {
      "text/plain": [
       "0.667473767139361"
      ]
     },
     "execution_count": 58,
     "metadata": {},
     "output_type": "execute_result"
    }
   ],
   "source": [
    "model_dt.best_score_"
   ]
  },
  {
   "cell_type": "markdown",
   "id": "d4dda41a",
   "metadata": {},
   "source": [
    "> The model took slighly longer than logistic regression but has a lower validation score of  67%. Perhaps this could improve with more tuning."
   ]
  },
  {
   "cell_type": "code",
   "execution_count": 59,
   "id": "799c217c",
   "metadata": {},
   "outputs": [
    {
     "data": {
      "text/plain": [
       "Pipeline(steps=[('fp',\n",
       "                 ColumnTransformer(transformers=[('proc_numeric',\n",
       "                                                  Pipeline(steps=[('impute',\n",
       "                                                                   SimpleImputer(strategy='median')),\n",
       "                                                                  ('scale',\n",
       "                                                                   StandardScaler())]),\n",
       "                                                  ['err_for_hf', 'err_for_hka',\n",
       "                                                   'err_for_copd',\n",
       "                                                   'err_for_cabg',\n",
       "                                                   'err_for_ami', 'black',\n",
       "                                                   'asian', 'hispanic',\n",
       "                                                   'per_cap_inc',\n",
       "                                                   'unemployment']),\n",
       "                                                 ('create_dummies',\n",
       "                                                  Pipeline(steps=[('impute_cat',\n",
       "                                                                   SimpleImputer(strategy='most_frequent')),\n",
       "                                                                  ('ohe',\n",
       "                                                                   OneHotEncoder(handle_unknown='ignore'))]),\n",
       "                                                  ['expanded_2014', 'cah',\n",
       "                                                   'teaching_hospital',\n",
       "                                                   'ownership_forprofit',\n",
       "                                                   'ownership_government',\n",
       "                                                   'ownership_nonprofit',\n",
       "                                                   'ruca',\n",
       "                                                   'cms_region_code'])])),\n",
       "                ('dt',\n",
       "                 DecisionTreeClassifier(class_weight='balanced', max_depth=5,\n",
       "                                        min_samples_split=0.1))])"
      ]
     },
     "execution_count": 59,
     "metadata": {},
     "output_type": "execute_result"
    }
   ],
   "source": [
    "# searching dt param grid\n",
    "\n",
    "params = {\n",
    "    'dt__max_depth': [2,3,4,5],\n",
    "    'dt__min_samples_split': [0.08, 0.1, 0.5],\n",
    "    'dt__class_weight': [None, 'balanced'],\n",
    "}\n",
    "\n",
    "model_dt = GridSearchCV(dt_pipe, param_grid = params, scoring='accuracy', cv=5)\n",
    "model_dt = model_dt.fit(X_train, y_train)\n",
    "\n",
    "model_dt.best_estimator_"
   ]
  },
  {
   "cell_type": "code",
   "execution_count": 60,
   "id": "e900653d",
   "metadata": {},
   "outputs": [
    {
     "data": {
      "text/plain": [
       "0.672799959770693"
      ]
     },
     "execution_count": 60,
     "metadata": {},
     "output_type": "execute_result"
    }
   ],
   "source": [
    "model_dt.best_score_"
   ]
  },
  {
   "cell_type": "markdown",
   "id": "385fbabc",
   "metadata": {},
   "source": [
    "> This slightly improved validation score accuracy by 0.1%"
   ]
  },
  {
   "cell_type": "code",
   "execution_count": 61,
   "id": "45e943de",
   "metadata": {
    "scrolled": false
   },
   "outputs": [
    {
     "data": {
      "text/plain": [
       "Pipeline(steps=[('fp',\n",
       "                 ColumnTransformer(transformers=[('proc_numeric',\n",
       "                                                  Pipeline(steps=[('impute',\n",
       "                                                                   SimpleImputer(strategy='median')),\n",
       "                                                                  ('scale',\n",
       "                                                                   StandardScaler())]),\n",
       "                                                  ['err_for_hf', 'err_for_hka',\n",
       "                                                   'err_for_copd',\n",
       "                                                   'err_for_cabg',\n",
       "                                                   'err_for_ami', 'black',\n",
       "                                                   'asian', 'hispanic',\n",
       "                                                   'per_cap_inc',\n",
       "                                                   'unemployment']),\n",
       "                                                 ('create_dummies',\n",
       "                                                  Pipeline(steps=[('impute_cat',\n",
       "                                                                   SimpleImputer(strategy='most_frequent')),\n",
       "                                                                  ('ohe',\n",
       "                                                                   OneHotEncoder(handle_unknown='ignore'))]),\n",
       "                                                  ['expanded_2014', 'cah',\n",
       "                                                   'teaching_hospital',\n",
       "                                                   'ownership_forprofit',\n",
       "                                                   'ownership_government',\n",
       "                                                   'ownership_nonprofit',\n",
       "                                                   'ruca',\n",
       "                                                   'cms_region_code'])])),\n",
       "                ('dt',\n",
       "                 DecisionTreeClassifier(class_weight='balanced', max_depth=4,\n",
       "                                        min_samples_split=0.2))])"
      ]
     },
     "execution_count": 61,
     "metadata": {},
     "output_type": "execute_result"
    }
   ],
   "source": [
    "# searching dt param grid\n",
    "\n",
    "params = {\n",
    "    'dt__max_depth': [4,5,6,7],\n",
    "    'dt__min_samples_split': [ 0.1, 0.2, 0.3, 0.4],\n",
    "    'dt__class_weight': [None, 'balanced'],\n",
    "}\n",
    "\n",
    "model_dt = GridSearchCV(dt_pipe, param_grid = params, scoring='accuracy', cv=5)\n",
    "model_dt = model_dt.fit(X_train, y_train)\n",
    "\n",
    "model_dt.best_estimator_"
   ]
  },
  {
   "cell_type": "code",
   "execution_count": 62,
   "id": "fc18d507",
   "metadata": {},
   "outputs": [
    {
     "data": {
      "text/plain": [
       "0.6760778101847196"
      ]
     },
     "execution_count": 62,
     "metadata": {},
     "output_type": "execute_result"
    }
   ],
   "source": [
    "model_dt.best_score_"
   ]
  },
  {
   "cell_type": "markdown",
   "id": "60498a17",
   "metadata": {},
   "source": [
    "> Negligible improvement so not worth continuing to search."
   ]
  },
  {
   "cell_type": "markdown",
   "id": "71cd1796",
   "metadata": {},
   "source": [
    "### Decision Tree Model Results"
   ]
  },
  {
   "cell_type": "code",
   "execution_count": 63,
   "id": "75c97598",
   "metadata": {
    "scrolled": true
   },
   "outputs": [
    {
     "name": "stdout",
     "output_type": "stream",
     "text": [
      "Decision Tree Validation score: 67.61%\n",
      "Decision Tree Full training score: 68.71%\n",
      "Decision Tree Test score: 65.96%\n"
     ]
    }
   ],
   "source": [
    "print(f'Decision Tree Validation score: {model_dt.best_score_:.2%}')\n",
    "print(f'Decision Tree Full training score: {model_dt.score(X_train, y_train):.2%}')\n",
    "print(f'Decision Tree Test score: {model_dt.score(X_test, y_test):.2%}')"
   ]
  },
  {
   "cell_type": "code",
   "execution_count": 64,
   "id": "5c86a6ed",
   "metadata": {},
   "outputs": [
    {
     "name": "stdout",
     "output_type": "stream",
     "text": [
      "              precision    recall  f1-score   support\n",
      "\n",
      "         0.0       0.66      0.74      0.70       323\n",
      "         1.0       0.66      0.57      0.61       288\n",
      "\n",
      "    accuracy                           0.66       611\n",
      "   macro avg       0.66      0.65      0.65       611\n",
      "weighted avg       0.66      0.66      0.66       611\n",
      "\n"
     ]
    }
   ],
   "source": [
    "print(classification_report(y_test, model_dt.predict(X_test)))"
   ]
  },
  {
   "cell_type": "markdown",
   "id": "227092ac",
   "metadata": {},
   "source": [
    "> Very similar to logistic regression but accuracy, precision, and recall all lost 1-2% percentage points."
   ]
  },
  {
   "cell_type": "code",
   "execution_count": 65,
   "id": "424a786c",
   "metadata": {},
   "outputs": [
    {
     "data": {
      "image/png": "[encoded data removed]",
      "text/plain": [
       "<Figure size 432x288 with 1 Axes>"
      ]
     },
     "metadata": {
      "needs_background": "light"
     },
     "output_type": "display_data"
    }
   ],
   "source": [
    "fpr_test, tpr_test, thr_test = roc_curve(y_test, model_dt.predict_proba(X_test)[:,1])\n",
    "fpr_tr, tpr_tr, thr_tr = roc_curve(y_train, model_dt.predict_proba(X_train)[:,1])\n",
    "\n",
    "plt.plot(fpr_test, tpr_test, 'orange')\n",
    "plt.plot(fpr_tr, tpr_tr, 'blue')\n",
    "plt.plot(fpr_tr, fpr_tr, color='green', linestyle='dashed')\n",
    "plt.xlabel('False Positive Rate')\n",
    "plt.ylabel('True Positive Rate')\n",
    "plt.legend(['Test','Training'])\n",
    "plt.show()"
   ]
  },
  {
   "cell_type": "markdown",
   "id": "26ee362c",
   "metadata": {},
   "source": [
    "> Decision tree is also more overfit than logisitc regression. Not great but still better than a blind guess."
   ]
  },
  {
   "cell_type": "markdown",
   "id": "b5e1c7f7",
   "metadata": {},
   "source": [
    "### Random Forest Classification"
   ]
  },
  {
   "cell_type": "code",
   "execution_count": 66,
   "id": "993d36cc",
   "metadata": {},
   "outputs": [],
   "source": [
    "from sklearn.ensemble import RandomForestClassifier"
   ]
  },
  {
   "cell_type": "code",
   "execution_count": 67,
   "id": "d659344c",
   "metadata": {},
   "outputs": [
    {
     "name": "stdout",
     "output_type": "stream",
     "text": [
      "4.923433065414429 seconds\n"
     ]
    },
    {
     "data": {
      "text/plain": [
       "Pipeline(steps=[('fp',\n",
       "                 ColumnTransformer(transformers=[('proc_numeric',\n",
       "                                                  Pipeline(steps=[('impute',\n",
       "                                                                   SimpleImputer(strategy='median')),\n",
       "                                                                  ('scale',\n",
       "                                                                   StandardScaler())]),\n",
       "                                                  ['err_for_hf', 'err_for_hka',\n",
       "                                                   'err_for_copd',\n",
       "                                                   'err_for_cabg',\n",
       "                                                   'err_for_ami', 'black',\n",
       "                                                   'asian', 'hispanic',\n",
       "                                                   'per_cap_inc',\n",
       "                                                   'unemployment']),\n",
       "                                                 ('create_dummies',\n",
       "                                                  Pipeline(steps=[('impute_cat',\n",
       "                                                                   SimpleImputer(strategy='most_frequent')),\n",
       "                                                                  ('ohe',\n",
       "                                                                   OneHotEncoder(handle_unknown='ignore'))]),\n",
       "                                                  ['expanded_2014', 'cah',\n",
       "                                                   'teaching_hospital',\n",
       "                                                   'ownership_forprofit',\n",
       "                                                   'ownership_government',\n",
       "                                                   'ownership_nonprofit',\n",
       "                                                   'ruca',\n",
       "                                                   'cms_region_code'])])),\n",
       "                ('rf', RandomForestClassifier(n_estimators=200))])"
      ]
     },
     "execution_count": 67,
     "metadata": {},
     "output_type": "execute_result"
    }
   ],
   "source": [
    "# rf: random forest\n",
    "rf_pipe = Pipeline([('fp', proc_pipe),\n",
    "                    ('rf', RandomForestClassifier())\n",
    "                    ])\n",
    "\n",
    "start = time.time()\n",
    "\n",
    "# setting rf param grid\n",
    "params = {\n",
    "    'rf__n_estimators': [100, 200]\n",
    "}\n",
    "\n",
    "model_rf = GridSearchCV(rf_pipe, param_grid = params, scoring='accuracy', cv=5, refit=True)\n",
    "model_rf = model_rf.fit(X_train, y_train)\n",
    "\n",
    "\n",
    "end = time.time()\n",
    "print(end - start, \"seconds\")\n",
    "\n",
    "model_rf.best_estimator_"
   ]
  },
  {
   "cell_type": "code",
   "execution_count": 68,
   "id": "561f6eda",
   "metadata": {},
   "outputs": [
    {
     "data": {
      "text/plain": [
       "0.6654287773643099"
      ]
     },
     "execution_count": 68,
     "metadata": {},
     "output_type": "execute_result"
    }
   ],
   "source": [
    "model_rf.best_score_"
   ]
  },
  {
   "cell_type": "markdown",
   "id": "654284d9",
   "metadata": {},
   "source": [
    "> Interesting how the more complex models are doing worse. Even lower validation score than both logistic regression (68%) and decision trees (66%)"
   ]
  },
  {
   "cell_type": "code",
   "execution_count": 69,
   "id": "f21d9b82",
   "metadata": {
    "scrolled": false
   },
   "outputs": [
    {
     "data": {
      "text/plain": [
       "Pipeline(steps=[('fp',\n",
       "                 ColumnTransformer(transformers=[('proc_numeric',\n",
       "                                                  Pipeline(steps=[('impute',\n",
       "                                                                   SimpleImputer(strategy='median')),\n",
       "                                                                  ('scale',\n",
       "                                                                   StandardScaler())]),\n",
       "                                                  ['err_for_hf', 'err_for_hka',\n",
       "                                                   'err_for_copd',\n",
       "                                                   'err_for_cabg',\n",
       "                                                   'err_for_ami', 'black',\n",
       "                                                   'asian', 'hispanic',\n",
       "                                                   'per_cap_inc',\n",
       "                                                   'unemployment']),\n",
       "                                                 ('create_dummies',\n",
       "                                                  Pipeline(steps=[('impute_cat',\n",
       "                                                                   SimpleImputer(strategy='most_frequent')),\n",
       "                                                                  ('ohe',\n",
       "                                                                   OneHotEncoder(handle_unknown='ignore'))]),\n",
       "                                                  ['expanded_2014', 'cah',\n",
       "                                                   'teaching_hospital',\n",
       "                                                   'ownership_forprofit',\n",
       "                                                   'ownership_government',\n",
       "                                                   'ownership_nonprofit',\n",
       "                                                   'ruca',\n",
       "                                                   'cms_region_code'])])),\n",
       "                ('rf', RandomForestClassifier(n_estimators=250))])"
      ]
     },
     "execution_count": 69,
     "metadata": {},
     "output_type": "execute_result"
    }
   ],
   "source": [
    "# searching rf param grid\n",
    "params = {\n",
    "    'rf__n_estimators': [200,250,300,500]\n",
    "}\n",
    "\n",
    "model_rf = GridSearchCV(rf_pipe, param_grid = params, scoring='accuracy', cv=5, refit=True)\n",
    "model_rf = model_rf.fit(X_train, y_train)\n",
    "\n",
    "model_rf.best_estimator_"
   ]
  },
  {
   "cell_type": "code",
   "execution_count": 70,
   "id": "08141980",
   "metadata": {},
   "outputs": [
    {
     "data": {
      "text/plain": [
       "0.6674838244661235"
      ]
     },
     "execution_count": 70,
     "metadata": {},
     "output_type": "execute_result"
    }
   ],
   "source": [
    "model_rf.best_score_"
   ]
  },
  {
   "cell_type": "markdown",
   "id": "3a0bc077",
   "metadata": {},
   "source": [
    "> Though slightly faster (5 seconds) than a decision tree (8 seconds), the performance is worse."
   ]
  },
  {
   "cell_type": "code",
   "execution_count": 71,
   "id": "2712c3ed",
   "metadata": {},
   "outputs": [
    {
     "data": {
      "text/plain": [
       "Pipeline(steps=[('fp',\n",
       "                 ColumnTransformer(transformers=[('proc_numeric',\n",
       "                                                  Pipeline(steps=[('impute',\n",
       "                                                                   SimpleImputer(strategy='median')),\n",
       "                                                                  ('scale',\n",
       "                                                                   StandardScaler())]),\n",
       "                                                  ['err_for_hf', 'err_for_hka',\n",
       "                                                   'err_for_copd',\n",
       "                                                   'err_for_cabg',\n",
       "                                                   'err_for_ami', 'black',\n",
       "                                                   'asian', 'hispanic',\n",
       "                                                   'per_cap_inc',\n",
       "                                                   'unemployment']),\n",
       "                                                 ('create_dummies',\n",
       "                                                  Pipeline(steps=[('impute_cat',\n",
       "                                                                   SimpleImputer(strategy='most_frequent')),\n",
       "                                                                  ('ohe',\n",
       "                                                                   OneHotEncoder(handle_unknown='ignore'))]),\n",
       "                                                  ['expanded_2014', 'cah',\n",
       "                                                   'teaching_hospital',\n",
       "                                                   'ownership_forprofit',\n",
       "                                                   'ownership_government',\n",
       "                                                   'ownership_nonprofit',\n",
       "                                                   'ruca',\n",
       "                                                   'cms_region_code'])])),\n",
       "                ('rf', RandomForestClassifier(n_estimators=400))])"
      ]
     },
     "execution_count": 71,
     "metadata": {},
     "output_type": "execute_result"
    }
   ],
   "source": [
    "# searching rf param grid\n",
    "params = {\n",
    "    'rf__n_estimators': [300,325,350,400,450]\n",
    "}\n",
    "\n",
    "model_rf = GridSearchCV(rf_pipe, param_grid = params, scoring='accuracy', cv=5, refit=True)\n",
    "model_rf = model_rf.fit(X_train, y_train)\n",
    "\n",
    "model_rf.best_estimator_"
   ]
  },
  {
   "cell_type": "code",
   "execution_count": 72,
   "id": "7b18d97d",
   "metadata": {},
   "outputs": [
    {
     "data": {
      "text/plain": [
       "0.6625649535686747"
      ]
     },
     "execution_count": 72,
     "metadata": {},
     "output_type": "execute_result"
    }
   ],
   "source": [
    "model_rf.best_score_"
   ]
  },
  {
   "cell_type": "markdown",
   "id": "1929f1f8",
   "metadata": {},
   "source": [
    "### Random Forest Model Results"
   ]
  },
  {
   "cell_type": "code",
   "execution_count": 73,
   "id": "c319416f",
   "metadata": {},
   "outputs": [
    {
     "name": "stdout",
     "output_type": "stream",
     "text": [
      "Logistic Regression Validation score: 66.26%\n",
      " Full training score: 100.00%\n",
      " Test score: 65.63%\n"
     ]
    }
   ],
   "source": [
    "print(f'Logistic Regression Validation score: {model_rf.best_score_:.2%}')\n",
    "print(f' Full training score: {model_rf.score(X_train, y_train):.2%}')\n",
    "print(f' Test score: {model_rf.score(X_test, y_test):.2%}')"
   ]
  },
  {
   "cell_type": "code",
   "execution_count": 74,
   "id": "eb0fc186",
   "metadata": {},
   "outputs": [
    {
     "name": "stdout",
     "output_type": "stream",
     "text": [
      "              precision    recall  f1-score   support\n",
      "\n",
      "         0.0       0.66      0.72      0.69       323\n",
      "         1.0       0.65      0.59      0.62       288\n",
      "\n",
      "    accuracy                           0.66       611\n",
      "   macro avg       0.66      0.65      0.65       611\n",
      "weighted avg       0.66      0.66      0.65       611\n",
      "\n"
     ]
    }
   ],
   "source": [
    "print(classification_report(y_test, model_rf.predict(X_test)))"
   ]
  },
  {
   "cell_type": "code",
   "execution_count": 75,
   "id": "0df40148",
   "metadata": {},
   "outputs": [
    {
     "data": {
      "image/png": "[encoded data removed]",
      "text/plain": [
       "<Figure size 432x288 with 1 Axes>"
      ]
     },
     "metadata": {
      "needs_background": "light"
     },
     "output_type": "display_data"
    }
   ],
   "source": [
    "fpr_test, tpr_test, thr_test = roc_curve(y_test, model_rf.predict_proba(X_test)[:,1])\n",
    "fpr_tr, tpr_tr, thr_tr = roc_curve(y_train, model_rf.predict_proba(X_train)[:,1])\n",
    "\n",
    "plt.plot(fpr_test, tpr_test, 'orange')\n",
    "plt.plot(fpr_tr, tpr_tr, 'blue')\n",
    "plt.plot(fpr_tr, fpr_tr, color='green', linestyle='dashed')\n",
    "plt.xlabel('False Positive Rate')\n",
    "plt.ylabel('True Positive Rate')\n",
    "plt.legend(['Test','Training'])\n",
    "plt.show()"
   ]
  },
  {
   "cell_type": "markdown",
   "id": "52ed9e68",
   "metadata": {},
   "source": [
    "> Once hypertuned better than random forest outperforms the decision tree by about a percentage point. However, this comes at the cost of some severe overfitting."
   ]
  },
  {
   "cell_type": "markdown",
   "id": "3fc773be",
   "metadata": {},
   "source": [
    "### Support Vector Machine"
   ]
  },
  {
   "cell_type": "code",
   "execution_count": 76,
   "id": "73df04e1",
   "metadata": {},
   "outputs": [],
   "source": [
    "from sklearn.svm import SVC\n",
    "from sklearn.model_selection import GridSearchCV"
   ]
  },
  {
   "cell_type": "code",
   "execution_count": 77,
   "id": "150e88b7",
   "metadata": {},
   "outputs": [
    {
     "name": "stdout",
     "output_type": "stream",
     "text": [
      "201.970458984375 seconds\n"
     ]
    },
    {
     "data": {
      "text/plain": [
       "Pipeline(steps=[('fp',\n",
       "                 ColumnTransformer(transformers=[('proc_numeric',\n",
       "                                                  Pipeline(steps=[('impute',\n",
       "                                                                   SimpleImputer(strategy='median')),\n",
       "                                                                  ('scale',\n",
       "                                                                   StandardScaler())]),\n",
       "                                                  ['err_for_hf', 'err_for_hka',\n",
       "                                                   'err_for_copd',\n",
       "                                                   'err_for_cabg',\n",
       "                                                   'err_for_ami', 'black',\n",
       "                                                   'asian', 'hispanic',\n",
       "                                                   'per_cap_inc',\n",
       "                                                   'unemployment']),\n",
       "                                                 ('create_dummies',\n",
       "                                                  Pipeline(steps=[('impute_cat',\n",
       "                                                                   SimpleImputer(strategy='most_frequent')),\n",
       "                                                                  ('ohe',\n",
       "                                                                   OneHotEncoder(handle_unknown='ignore'))]),\n",
       "                                                  ['expanded_2014', 'cah',\n",
       "                                                   'teaching_hospital',\n",
       "                                                   'ownership_forprofit',\n",
       "                                                   'ownership_government',\n",
       "                                                   'ownership_nonprofit',\n",
       "                                                   'ruca',\n",
       "                                                   'cms_region_code'])])),\n",
       "                ('svm', SVC(C=0.01, kernel='linear'))])"
      ]
     },
     "execution_count": 77,
     "metadata": {},
     "output_type": "execute_result"
    }
   ],
   "source": [
    "# svm: support vector machine\n",
    "svm_pipe = Pipeline([('fp', proc_pipe),\n",
    "                    ('svm', SVC())])\n",
    "\n",
    "start = time.time()\n",
    "\n",
    "# setting LG param grid\n",
    "params = {\n",
    "    'svm__C': [0.01, 0.1, 1, 10, 100, 1000],\n",
    "    'svm__kernel': ['linear','rbf']\n",
    "}\n",
    "\n",
    "model_svm = GridSearchCV(svm_pipe, param_grid = params, scoring='accuracy', cv=5)\n",
    "model_svm = model_svm.fit(X_train, y_train)\n",
    "\n",
    "\n",
    "end = time.time()\n",
    "print(end - start, \"seconds\")\n",
    "\n",
    "model_svm.best_estimator_"
   ]
  },
  {
   "cell_type": "code",
   "execution_count": 78,
   "id": "a7faa6fd",
   "metadata": {},
   "outputs": [
    {
     "data": {
      "text/plain": [
       "0.6756688122297094"
      ]
     },
     "execution_count": 78,
     "metadata": {},
     "output_type": "execute_result"
    }
   ],
   "source": [
    "model_svm.best_score_"
   ]
  },
  {
   "cell_type": "markdown",
   "id": "d8eb4b24",
   "metadata": {},
   "source": [
    "> SVM is slightly promising and may be a contender performance wise but the validation score is still under 70% and this doesn't justify the awful run time 198 seconds versus 5 seconds for logistic regression."
   ]
  },
  {
   "cell_type": "code",
   "execution_count": 79,
   "id": "e117352c",
   "metadata": {},
   "outputs": [
    {
     "name": "stdout",
     "output_type": "stream",
     "text": [
      "Support Vector Machine Validation score: 67.57%\n",
      "Support Vector Machine Full training score: 68.10%\n",
      "Support Vector Machine Test score: 67.27%\n"
     ]
    }
   ],
   "source": [
    "print(f'Support Vector Machine Validation score: {model_svm.best_score_:.2%}')\n",
    "print(f'Support Vector Machine Full training score: {model_svm.score(X_train, y_train):.2%}')\n",
    "print(f'Support Vector Machine Test score: {model_svm.score(X_test, y_test):.2%}')"
   ]
  },
  {
   "cell_type": "code",
   "execution_count": 80,
   "id": "a2966efd",
   "metadata": {
    "scrolled": true
   },
   "outputs": [
    {
     "name": "stdout",
     "output_type": "stream",
     "text": [
      "              precision    recall  f1-score   support\n",
      "\n",
      "         0.0       0.66      0.80      0.72       323\n",
      "         1.0       0.70      0.53      0.60       288\n",
      "\n",
      "    accuracy                           0.67       611\n",
      "   macro avg       0.68      0.66      0.66       611\n",
      "weighted avg       0.68      0.67      0.67       611\n",
      "\n"
     ]
    }
   ],
   "source": [
    "print(classification_report(y_test, model_svm.predict(X_test)))"
   ]
  },
  {
   "cell_type": "markdown",
   "id": "7ba3e285",
   "metadata": {},
   "source": [
    "> It took too long. The precision is higher but the accuracy and recall is lower than logistic regression."
   ]
  },
  {
   "cell_type": "markdown",
   "id": "df1f825a",
   "metadata": {},
   "source": [
    "### K-Nearest Neighbor"
   ]
  },
  {
   "cell_type": "code",
   "execution_count": 81,
   "id": "0fed7657",
   "metadata": {},
   "outputs": [],
   "source": [
    "from sklearn.neighbors import KNeighborsClassifier"
   ]
  },
  {
   "cell_type": "code",
   "execution_count": 82,
   "id": "c74fb91a",
   "metadata": {},
   "outputs": [
    {
     "name": "stdout",
     "output_type": "stream",
     "text": [
      "2.0683209896087646 seconds\n"
     ]
    },
    {
     "data": {
      "text/plain": [
       "Pipeline(steps=[('fp',\n",
       "                 ColumnTransformer(transformers=[('proc_numeric',\n",
       "                                                  Pipeline(steps=[('impute',\n",
       "                                                                   SimpleImputer(strategy='median')),\n",
       "                                                                  ('scale',\n",
       "                                                                   StandardScaler())]),\n",
       "                                                  ['err_for_hf', 'err_for_hka',\n",
       "                                                   'err_for_copd',\n",
       "                                                   'err_for_cabg',\n",
       "                                                   'err_for_ami', 'black',\n",
       "                                                   'asian', 'hispanic',\n",
       "                                                   'per_cap_inc',\n",
       "                                                   'unemployment']),\n",
       "                                                 ('create_dummies',\n",
       "                                                  Pipeline(steps=[('impute_cat',\n",
       "                                                                   SimpleImputer(strategy='most_frequent')),\n",
       "                                                                  ('ohe',\n",
       "                                                                   OneHotEncoder(handle_unknown='ignore'))]),\n",
       "                                                  ['expanded_2014', 'cah',\n",
       "                                                   'teaching_hospital',\n",
       "                                                   'ownership_forprofit',\n",
       "                                                   'ownership_government',\n",
       "                                                   'ownership_nonprofit',\n",
       "                                                   'ruca',\n",
       "                                                   'cms_region_code'])])),\n",
       "                ('kn', KNeighborsClassifier(n_neighbors=15))])"
      ]
     },
     "execution_count": 82,
     "metadata": {},
     "output_type": "execute_result"
    }
   ],
   "source": [
    "# kn: KNN\n",
    "kn_pipe = Pipeline([('fp', proc_pipe),\n",
    "                    ('kn', KNeighborsClassifier())\n",
    "                    ])\n",
    "\n",
    "start = time.time()\n",
    "\n",
    "# setting kn param grid\n",
    "params = {\n",
    "    'kn__n_neighbors': [1, 4, 8, 10, 15],\n",
    "    'kn__weights': ['uniform','distance']\n",
    "}\n",
    "\n",
    "model_kn = GridSearchCV(kn_pipe, param_grid = params, scoring='accuracy', cv=5)\n",
    "model_kn = model_kn.fit(X_train, y_train)\n",
    "\n",
    "\n",
    "end = time.time()\n",
    "print(end - start, \"seconds\")\n",
    "\n",
    "model_kn.best_estimator_"
   ]
  },
  {
   "cell_type": "code",
   "execution_count": 83,
   "id": "86426a8b",
   "metadata": {},
   "outputs": [
    {
     "data": {
      "text/plain": [
       "0.6572521707063597"
      ]
     },
     "execution_count": 83,
     "metadata": {},
     "output_type": "execute_result"
    }
   ],
   "source": [
    "model_kn.best_score_"
   ]
  },
  {
   "cell_type": "markdown",
   "id": "3afbf7a2",
   "metadata": {},
   "source": [
    "> not unreasonable. continuing to hypertune."
   ]
  },
  {
   "cell_type": "code",
   "execution_count": 84,
   "id": "431909ae",
   "metadata": {},
   "outputs": [
    {
     "data": {
      "text/plain": [
       "Pipeline(steps=[('fp',\n",
       "                 ColumnTransformer(transformers=[('proc_numeric',\n",
       "                                                  Pipeline(steps=[('impute',\n",
       "                                                                   SimpleImputer(strategy='median')),\n",
       "                                                                  ('scale',\n",
       "                                                                   StandardScaler())]),\n",
       "                                                  ['err_for_hf', 'err_for_hka',\n",
       "                                                   'err_for_copd',\n",
       "                                                   'err_for_cabg',\n",
       "                                                   'err_for_ami', 'black',\n",
       "                                                   'asian', 'hispanic',\n",
       "                                                   'per_cap_inc',\n",
       "                                                   'unemployment']),\n",
       "                                                 ('create_dummies',\n",
       "                                                  Pipeline(steps=[('impute_cat',\n",
       "                                                                   SimpleImputer(strategy='most_frequent')),\n",
       "                                                                  ('ohe',\n",
       "                                                                   OneHotEncoder(handle_unknown='ignore'))]),\n",
       "                                                  ['expanded_2014', 'cah',\n",
       "                                                   'teaching_hospital',\n",
       "                                                   'ownership_forprofit',\n",
       "                                                   'ownership_government',\n",
       "                                                   'ownership_nonprofit',\n",
       "                                                   'ruca',\n",
       "                                                   'cms_region_code'])])),\n",
       "                ('kn',\n",
       "                 KNeighborsClassifier(n_neighbors=30, weights='distance'))])"
      ]
     },
     "execution_count": 84,
     "metadata": {},
     "output_type": "execute_result"
    }
   ],
   "source": [
    "# searching kn param grid\n",
    "params = {\n",
    "    'kn__n_neighbors': [15,16,20,30,50],\n",
    "    'kn__weights': ['uniform','distance']\n",
    "}\n",
    "\n",
    "model_kn = GridSearchCV(kn_pipe, param_grid = params, scoring='accuracy', cv=5)\n",
    "model_kn = model_kn.fit(X_train, y_train)\n",
    "\n",
    "model_kn.best_estimator_"
   ]
  },
  {
   "cell_type": "code",
   "execution_count": 85,
   "id": "c74c88ce",
   "metadata": {},
   "outputs": [
    {
     "data": {
      "text/plain": [
       "0.6695321666834289"
      ]
     },
     "execution_count": 85,
     "metadata": {},
     "output_type": "execute_result"
    }
   ],
   "source": [
    "model_kn.best_score_"
   ]
  },
  {
   "cell_type": "markdown",
   "id": "7f6a7587",
   "metadata": {},
   "source": [
    "> A much better improvement but it's still not close to logistic regression."
   ]
  },
  {
   "cell_type": "markdown",
   "id": "ecb0dc10",
   "metadata": {},
   "source": [
    "### Refining logistic regression classifical model further"
   ]
  },
  {
   "cell_type": "code",
   "execution_count": 86,
   "id": "dd142470",
   "metadata": {},
   "outputs": [
    {
     "name": "stdout",
     "output_type": "stream",
     "text": [
      "Logistic Regression AUC: 75.78%\n",
      "Decision Tree AUC: 69.39%\n",
      "Random Forest AUC: 72.52%\n",
      "K-Nearest Neighbor AUC: 70.44%\n"
     ]
    }
   ],
   "source": [
    "from sklearn.metrics import roc_auc_score\n",
    "\n",
    "logreg = roc_auc_score(y_test, model_lg.predict_proba(X_test)[:,1]) \n",
    "dtr = roc_auc_score(y_test, model_dt.predict_proba(X_test)[:,1])\n",
    "rndf = roc_auc_score(y_test, model_rf.predict_proba(X_test)[:,1])\n",
    "knn = roc_auc_score(y_test, model_kn.predict_proba(X_test)[:,1])\n",
    "\n",
    "print(f'Logistic Regression AUC: {logreg:.2%}')\n",
    "print(f'Decision Tree AUC: {dtr:.2%}')\n",
    "print(f'Random Forest AUC: {rndf:.2%}')\n",
    "print(f'K-Nearest Neighbor AUC: {knn:.2%}')"
   ]
  },
  {
   "cell_type": "markdown",
   "id": "ddc2ae44",
   "metadata": {},
   "source": [
    "> AUC provides a way to compare models. As expected logisitc regression has the highest AUC only second to Random Forests which was very badly overfit."
   ]
  },
  {
   "cell_type": "markdown",
   "id": "3fa2a2b8",
   "metadata": {},
   "source": [
    "#### Logisitic regression does not overfit, runs the fastest, and hasthe best accuracy score. So it's worth refining it even more.."
   ]
  },
  {
   "cell_type": "markdown",
   "id": "7c2a78fc",
   "metadata": {},
   "source": [
    "### Logistic Regression with Principal Component Analysis (PCA)"
   ]
  },
  {
   "cell_type": "code",
   "execution_count": 87,
   "id": "bbf8751b",
   "metadata": {},
   "outputs": [],
   "source": [
    "from sklearn.decomposition import PCA"
   ]
  },
  {
   "cell_type": "code",
   "execution_count": 88,
   "id": "b893877e",
   "metadata": {},
   "outputs": [],
   "source": [
    "s = StandardScaler()\n",
    "X_train_proc = proc_pipe.fit_transform(X_train)\n",
    "\n",
    "p = PCA()\n",
    "X_train_pca = p.fit_transform(X_train_proc)"
   ]
  },
  {
   "cell_type": "code",
   "execution_count": 89,
   "id": "eaa6d9dc",
   "metadata": {
    "scrolled": true
   },
   "outputs": [
    {
     "data": {
      "image/png": "[encoded data removed]",
      "text/plain": [
       "<Figure size 432x288 with 1 Axes>"
      ]
     },
     "metadata": {
      "needs_background": "light"
     },
     "output_type": "display_data"
    }
   ],
   "source": [
    "evr = p.explained_variance_ratio_\n",
    "\n",
    "plt.plot(np.cumsum(evr), '-o')\n",
    "plt.bar(np.arange(np.size(evr)), evr, color='red')\n",
    "plt.ylabel('Explained Variance %')\n",
    "plt.xlabel('Components')\n",
    "plt.hlines(.95, 0, np.size(evr))\n",
    "plt.show()"
   ]
  },
  {
   "cell_type": "markdown",
   "id": "b6cde53a",
   "metadata": {},
   "source": [
    "> Around the 15th component, most of the variance is explained. "
   ]
  },
  {
   "cell_type": "code",
   "execution_count": 90,
   "id": "bb566337",
   "metadata": {},
   "outputs": [
    {
     "name": "stdout",
     "output_type": "stream",
     "text": [
      "11.955714702606201 seconds\n"
     ]
    },
    {
     "data": {
      "text/plain": [
       "Pipeline(steps=[('fp',\n",
       "                 ColumnTransformer(transformers=[('proc_numeric',\n",
       "                                                  Pipeline(steps=[('impute',\n",
       "                                                                   SimpleImputer(strategy='median')),\n",
       "                                                                  ('scale',\n",
       "                                                                   StandardScaler())]),\n",
       "                                                  ['err_for_hf', 'err_for_hka',\n",
       "                                                   'err_for_copd',\n",
       "                                                   'err_for_cabg',\n",
       "                                                   'err_for_ami', 'black',\n",
       "                                                   'asian', 'hispanic',\n",
       "                                                   'per_cap_inc',\n",
       "                                                   'unemployment']),\n",
       "                                                 ('create_dummies',\n",
       "                                                  Pipeline(steps=[('impute_cat',\n",
       "                                                                   SimpleImputer(strategy='most_frequent')),\n",
       "                                                                  ('ohe',\n",
       "                                                                   OneHotEncoder(handle_unknown='ignore'))]),\n",
       "                                                  ['expanded_2014', 'cah',\n",
       "                                                   'teaching_hospital',\n",
       "                                                   'ownership_forprofit',\n",
       "                                                   'ownership_government',\n",
       "                                                   'ownership_nonprofit',\n",
       "                                                   'ruca',\n",
       "                                                   'cms_region_code'])])),\n",
       "                ('pca', PCA(n_components=15)),\n",
       "                ('lg',\n",
       "                 LogisticRegression(C=0.01, max_iter=200, solver='liblinear'))])"
      ]
     },
     "execution_count": 90,
     "metadata": {},
     "output_type": "execute_result"
    }
   ],
   "source": [
    "# lg_pca: logistic regression w/ pca\n",
    "lg_pca_pipe = Pipeline([('fp', proc_pipe),\n",
    "                        ('pca', PCA()),\n",
    "                        ('lg', LogisticRegression(solver='liblinear', max_iter=200)),\n",
    "                    \n",
    "                    ])\n",
    "\n",
    "start = time.time()\n",
    "\n",
    "# setting lg_pca param grid\n",
    "params = {\n",
    "    'lg__C': [0.001, 0.01, 0.1, 1, 10, 100],\n",
    "    'lg__class_weight': [None, 'balanced'],\n",
    "    'pca__n_components': [2, 5, 10, 15, 20, 25, 30]\n",
    "}\n",
    "\n",
    "model_lg_pca = GridSearchCV(lg_pca_pipe, param_grid = params, scoring='accuracy', cv=5)\n",
    "model_lg_pca = model_lg_pca.fit(X_train, y_train)\n",
    "\n",
    "\n",
    "end = time.time()\n",
    "print(end - start, \"seconds\")\n",
    "\n",
    "model_lg_pca.best_estimator_"
   ]
  },
  {
   "cell_type": "code",
   "execution_count": 91,
   "id": "4ff7f507",
   "metadata": {},
   "outputs": [
    {
     "data": {
      "text/plain": [
       "0.6822194843943814"
      ]
     },
     "execution_count": 91,
     "metadata": {},
     "output_type": "execute_result"
    }
   ],
   "source": [
    "model_lg_pca.best_score_"
   ]
  },
  {
   "cell_type": "code",
   "execution_count": 92,
   "id": "de528a57",
   "metadata": {},
   "outputs": [
    {
     "data": {
      "text/plain": [
       "Pipeline(steps=[('fp',\n",
       "                 ColumnTransformer(transformers=[('proc_numeric',\n",
       "                                                  Pipeline(steps=[('impute',\n",
       "                                                                   SimpleImputer(strategy='median')),\n",
       "                                                                  ('scale',\n",
       "                                                                   StandardScaler())]),\n",
       "                                                  ['err_for_hf', 'err_for_hka',\n",
       "                                                   'err_for_copd',\n",
       "                                                   'err_for_cabg',\n",
       "                                                   'err_for_ami', 'black',\n",
       "                                                   'asian', 'hispanic',\n",
       "                                                   'per_cap_inc',\n",
       "                                                   'unemployment']),\n",
       "                                                 ('create_dummies',\n",
       "                                                  Pipeline(steps=[('impute_cat',\n",
       "                                                                   SimpleImputer(strategy='most_frequent')),\n",
       "                                                                  ('ohe',\n",
       "                                                                   OneHotEncoder(handle_unknown='ignore'))]),\n",
       "                                                  ['expanded_2014', 'cah',\n",
       "                                                   'teaching_hospital',\n",
       "                                                   'ownership_forprofit',\n",
       "                                                   'ownership_government',\n",
       "                                                   'ownership_nonprofit',\n",
       "                                                   'ruca',\n",
       "                                                   'cms_region_code'])])),\n",
       "                ('pca', PCA(n_components=18)),\n",
       "                ('lg',\n",
       "                 LogisticRegression(C=0.005, max_iter=200,\n",
       "                                    solver='liblinear'))])"
      ]
     },
     "execution_count": 92,
     "metadata": {},
     "output_type": "execute_result"
    }
   ],
   "source": [
    "# searching lg_pca param grid\n",
    "params = {\n",
    "    'lg__C': [0.001, 0.01, 0.005, 0.015],\n",
    "    'lg__class_weight': [None, 'balanced'],\n",
    "    'pca__n_components': [15,16,17,18,19]\n",
    "}\n",
    "\n",
    "model_lg_pca = GridSearchCV(lg_pca_pipe, param_grid = params, scoring='accuracy', cv=5)\n",
    "model_lg_pca = model_lg_pca.fit(X_train, y_train)\n",
    "\n",
    "\n",
    "\n",
    "model_lg_pca.best_estimator_"
   ]
  },
  {
   "cell_type": "code",
   "execution_count": 93,
   "id": "6409c82b",
   "metadata": {},
   "outputs": [
    {
     "data": {
      "text/plain": [
       "0.6826284823493914"
      ]
     },
     "execution_count": 93,
     "metadata": {},
     "output_type": "execute_result"
    }
   ],
   "source": [
    "model_lg_pca.best_score_"
   ]
  },
  {
   "cell_type": "markdown",
   "id": "9f087f8c",
   "metadata": {},
   "source": [
    "> 0.003% of an improvement. Not worth hypertuning anymore."
   ]
  },
  {
   "cell_type": "code",
   "execution_count": 94,
   "id": "4b2d13ab",
   "metadata": {},
   "outputs": [
    {
     "name": "stdout",
     "output_type": "stream",
     "text": [
      "Logistic Regression w/ PCA Validation score: 68.26%\n",
      "Logistic Regression w/ PCA Full training score: 68.59%\n",
      "Logistic Regression w/ PCA Test score: 66.94%\n"
     ]
    }
   ],
   "source": [
    "print(f'Logistic Regression w/ PCA Validation score: {model_lg_pca.best_score_:.2%}')\n",
    "print(f'Logistic Regression w/ PCA Full training score: {model_lg_pca.score(X_train, y_train):.2%}')\n",
    "print(f'Logistic Regression w/ PCA Test score: {model_lg_pca.score(X_test, y_test):.2%}')"
   ]
  },
  {
   "cell_type": "code",
   "execution_count": 95,
   "id": "0bf80616",
   "metadata": {},
   "outputs": [
    {
     "name": "stdout",
     "output_type": "stream",
     "text": [
      "              precision    recall  f1-score   support\n",
      "\n",
      "         0.0       0.66      0.76      0.71       323\n",
      "         1.0       0.68      0.57      0.62       288\n",
      "\n",
      "    accuracy                           0.67       611\n",
      "   macro avg       0.67      0.66      0.66       611\n",
      "weighted avg       0.67      0.67      0.67       611\n",
      "\n"
     ]
    }
   ],
   "source": [
    "print(classification_report(y_test, model_lg_pca.predict(X_test)))"
   ]
  },
  {
   "cell_type": "markdown",
   "id": "ece994db",
   "metadata": {},
   "source": [
    "> Both accuracy and recall are a little less than without pca. Overfits ever so slightly more as well. Still comparable."
   ]
  },
  {
   "cell_type": "markdown",
   "id": "530dbafc",
   "metadata": {},
   "source": [
    "### Logistic Regression with K-Means Clustering"
   ]
  },
  {
   "cell_type": "code",
   "execution_count": 96,
   "id": "b9bc3501",
   "metadata": {},
   "outputs": [],
   "source": [
    "from sklearn.cluster import KMeans"
   ]
  },
  {
   "cell_type": "code",
   "execution_count": 97,
   "id": "3132a951",
   "metadata": {},
   "outputs": [
    {
     "name": "stdout",
     "output_type": "stream",
     "text": [
      "90.74153280258179 seconds\n"
     ]
    },
    {
     "data": {
      "text/plain": [
       "Pipeline(steps=[('fp',\n",
       "                 ColumnTransformer(transformers=[('proc_numeric',\n",
       "                                                  Pipeline(steps=[('impute',\n",
       "                                                                   SimpleImputer(strategy='median')),\n",
       "                                                                  ('scale',\n",
       "                                                                   StandardScaler())]),\n",
       "                                                  ['err_for_hf', 'err_for_hka',\n",
       "                                                   'err_for_copd',\n",
       "                                                   'err_for_cabg',\n",
       "                                                   'err_for_ami', 'black',\n",
       "                                                   'asian', 'hispanic',\n",
       "                                                   'per_cap_inc',\n",
       "                                                   'unemployment']),\n",
       "                                                 ('create_dummies',\n",
       "                                                  Pipeline(steps=[('impute_cat',\n",
       "                                                                   SimpleImputer(strategy='most_frequent')),\n",
       "                                                                  ('ohe',\n",
       "                                                                   OneHotEncoder(handle_unknown='ignore'))]),\n",
       "                                                  ['expanded_2014', 'cah',\n",
       "                                                   'teaching_hospital',\n",
       "                                                   'ownership_forprofit',\n",
       "                                                   'ownership_government',\n",
       "                                                   'ownership_nonprofit',\n",
       "                                                   'ruca',\n",
       "                                                   'cms_region_code'])])),\n",
       "                ('km', KMeans(n_clusters=10)),\n",
       "                ('lg',\n",
       "                 LogisticRegression(C=1, max_iter=200, solver='liblinear'))])"
      ]
     },
     "execution_count": 97,
     "metadata": {},
     "output_type": "execute_result"
    }
   ],
   "source": [
    "# lg_km: logistic regression w/ k-means\n",
    "lg_km_pipe = Pipeline([('fp', proc_pipe),\n",
    "                        ('km', KMeans()),\n",
    "                        ('lg', LogisticRegression(solver='liblinear', max_iter=200)),\n",
    "                    \n",
    "                    ])\n",
    "\n",
    "start = time.time()\n",
    "\n",
    "# setting lg_km param grid\n",
    "params = {\n",
    "    'lg__C': [0.001, 0.01, 0.1, 1, 10, 100],\n",
    "    'lg__class_weight': [None, 'balanced'],\n",
    "    'km__n_clusters': [1, 2, 3, 4, 5, 6, 7, 8, 9, 10]\n",
    "}\n",
    "\n",
    "model_lg_km = GridSearchCV(lg_km_pipe, param_grid = params, scoring='accuracy', cv=5)\n",
    "model_lg_km = model_lg_km.fit(X_train, y_train)\n",
    "\n",
    "\n",
    "end = time.time()\n",
    "print(end - start, \"seconds\")\n",
    "\n",
    "model_lg_km.best_estimator_"
   ]
  },
  {
   "cell_type": "code",
   "execution_count": 98,
   "id": "793e2aaf",
   "metadata": {},
   "outputs": [
    {
     "data": {
      "text/plain": [
       "0.6809874618659694"
      ]
     },
     "execution_count": 98,
     "metadata": {},
     "output_type": "execute_result"
    }
   ],
   "source": [
    "model_lg_km.best_score_"
   ]
  },
  {
   "cell_type": "markdown",
   "id": "f27826ed",
   "metadata": {},
   "source": [
    "> Performance improvement again doesn't make it worth the extra time. 88 seconds versus our reigning winner of 5 seconds."
   ]
  },
  {
   "cell_type": "markdown",
   "id": "9ef580bf",
   "metadata": {},
   "source": [
    "## Results"
   ]
  },
  {
   "cell_type": "markdown",
   "id": "6b889dc1",
   "metadata": {},
   "source": [
    "#### Logistic Regression Final Model Evaluation"
   ]
  },
  {
   "cell_type": "code",
   "execution_count": 99,
   "id": "0535343d",
   "metadata": {
    "scrolled": true
   },
   "outputs": [
    {
     "name": "stdout",
     "output_type": "stream",
     "text": [
      "Logistic Regression AUC: 75.78%\n",
      "Logistic Regression w/ PCA AUC: 75.77%\n",
      "Logistic Regression w/ k-Means AUC: 75.00%\n"
     ]
    }
   ],
   "source": [
    "logreg_pca = roc_auc_score(y_test, model_lg_pca.predict_proba(X_test)[:,1])\n",
    "logreg_km = roc_auc_score(y_test, model_lg_km.predict_proba(X_test)[:,1])\n",
    "\n",
    "print(f'Logistic Regression AUC: {logreg:.2%}')\n",
    "print(f'Logistic Regression w/ PCA AUC: {logreg_pca:.2%}')\n",
    "print(f'Logistic Regression w/ k-Means AUC: {logreg_km:.2%}')"
   ]
  },
  {
   "cell_type": "markdown",
   "id": "e3b85051",
   "metadata": {},
   "source": [
    "Logistic regression with Principal component analyis has a slightly higher AUC. It takes twice as long at 11 seconds. This could be worth the extra model performance. "
   ]
  },
  {
   "cell_type": "code",
   "execution_count": 100,
   "id": "30fcdf23",
   "metadata": {
    "scrolled": true
   },
   "outputs": [
    {
     "data": {
      "image/png": "[encoded data removed]",
      "text/plain": [
       "<Figure size 432x288 with 1 Axes>"
      ]
     },
     "metadata": {
      "needs_background": "light"
     },
     "output_type": "display_data"
    }
   ],
   "source": [
    "fpr_test, tpr_test, thr_test = roc_curve(y_train, model_lg.predict_proba(X_train)[:,1])\n",
    "fpr_tr, tpr_tr, thr_tr = roc_curve(y_train, model_lg_pca.predict_proba(X_train)[:,1])\n",
    "\n",
    "plt.plot(fpr_test, tpr_test, 'red')\n",
    "plt.plot(fpr_tr, tpr_tr, 'blue')\n",
    "plt.plot(fpr_tr, fpr_tr, color='green', linestyle='dashed')\n",
    "plt.xlabel('False Positive Rate')\n",
    "plt.ylabel('True Positive Rate')\n",
    "plt.legend(['Log Reg W/out PCA','Log Reg W/ PCA '])\n",
    "plt.show()"
   ]
  },
  {
   "cell_type": "markdown",
   "id": "9e6a7099",
   "metadata": {},
   "source": [
    "> The ROC curve shows how similar using and not using PCA is on the model."
   ]
  },
  {
   "cell_type": "markdown",
   "id": "7b6b0a5f",
   "metadata": {},
   "source": [
    "#### Chosen Model"
   ]
  },
  {
   "cell_type": "code",
   "execution_count": 101,
   "id": "39047a92",
   "metadata": {
    "scrolled": false
   },
   "outputs": [
    {
     "data": {
      "text/plain": [
       "Pipeline(steps=[('fp',\n",
       "                 ColumnTransformer(transformers=[('proc_numeric',\n",
       "                                                  Pipeline(steps=[('impute',\n",
       "                                                                   SimpleImputer(strategy='median')),\n",
       "                                                                  ('scale',\n",
       "                                                                   StandardScaler())]),\n",
       "                                                  ['err_for_hf', 'err_for_hka',\n",
       "                                                   'err_for_copd',\n",
       "                                                   'err_for_cabg',\n",
       "                                                   'err_for_ami', 'black',\n",
       "                                                   'asian', 'hispanic',\n",
       "                                                   'per_cap_inc',\n",
       "                                                   'unemployment']),\n",
       "                                                 ('create_dummies',\n",
       "                                                  Pipeline(steps=[('impute_cat',\n",
       "                                                                   SimpleImputer(strategy='most_frequent')),\n",
       "                                                                  ('ohe',\n",
       "                                                                   OneHotEncoder(handle_unknown='ignore'))]),\n",
       "                                                  ['expanded_2014', 'cah',\n",
       "                                                   'teaching_hospital',\n",
       "                                                   'ownership_forprofit',\n",
       "                                                   'ownership_government',\n",
       "                                                   'ownership_nonprofit',\n",
       "                                                   'ruca',\n",
       "                                                   'cms_region_code'])])),\n",
       "                ('pca', PCA(n_components=18)),\n",
       "                ('lg',\n",
       "                 LogisticRegression(C=0.005, max_iter=200,\n",
       "                                    solver='liblinear'))])"
      ]
     },
     "execution_count": 101,
     "metadata": {},
     "output_type": "execute_result"
    }
   ],
   "source": [
    "model_lg_pca.best_estimator_"
   ]
  },
  {
   "cell_type": "markdown",
   "id": "f2087d02",
   "metadata": {},
   "source": [
    "**Best model hyperparameters**\n",
    "\n",
    "- Regularization strength: 0.005\n",
    "\n",
    "- PCA components: 18"
   ]
  },
  {
   "cell_type": "markdown",
   "id": "21d7a66c",
   "metadata": {},
   "source": [
    "## Discussion"
   ]
  },
  {
   "cell_type": "markdown",
   "id": "e4f38bdb",
   "metadata": {},
   "source": [
    "The best model is logistic regression with PCA, based on the higher AUC and comparable accuracy, recall, precision and runtime. An s-shaped curve seems to represent the data best. The similarity in model performance across the board likely reflects the issues with the data rather than a reflection of the model performance. \n"
   ]
  },
  {
   "cell_type": "markdown",
   "id": "42a56c6f",
   "metadata": {},
   "source": [
    "### Next Steps"
   ]
  },
  {
   "cell_type": "markdown",
   "id": "631c144e",
   "metadata": {},
   "source": [
    "There are some options to explore to improve model performance.\n",
    "\n",
    "I. Collecting more data:\n",
    "- Removing medicaid expansion variable and instead including more states\n",
    "- Including more features such as patient health characteristics \n",
    "\n",
    "II. Using more methods that work better for smaller datasets:\n",
    "- Using leave one out cross-validation\n",
    "- Utilizing ensemble methods\n",
    "\n",
    "III. Modifying analysis:\n",
    "- employing panel data\n",
    "- feature engineering to aggregate readmission rates at the hospital level\n",
    "- experimetn with different binary outcome cut offs"
   ]
  },
  {
   "cell_type": "markdown",
   "id": "09ed66be",
   "metadata": {},
   "source": [
    "In conclusion, readmission rates for pneumonia can be predicted with 68% accuracy given other readmission rates and demographic data. Pneumonia ERRs are still valuable to collect until there is better data to improve prediction and possibly remove the necessity for reporting that particular metric."
   ]
  },
  {
   "cell_type": "markdown",
   "id": "dd8eb708",
   "metadata": {},
   "source": [
    "## References"
   ]
  },
  {
   "cell_type": "markdown",
   "id": "cce81dcc",
   "metadata": {},
   "source": [
    "[1] Centers for Medicaid and Medicare Services (n.d.) Hospital Readmissions Reduction Program (HRRP) Measures https://qualitynet.cms.gov/inpatient/hrrp/measures \n",
    "\n",
    "[2] Casalino LP, Gans D, Weber R, et al. US Physician Practices Spend More Than $15.4 Billion Annually To Report Quality Measures. Health Aff (Millwood). 2016;35(3):401-406. doi:10.1377/hlthaff.2015.1258\n",
    "\n",
    "[3] Gai Y, Pachamanova D. Impact of the Medicare hospital readmissions reduction program on vulnerable populations. BMC Health Serv Res. 2019;19(1):837. Published 2019 Nov 14. doi:10.1186/s12913-019-4645-5\n",
    "\n",
    "[4] Wadhera RK, Joynt Maddox KE, Wasfy JH, Haneuse S, Shen C, Yeh RW. Association of the Hospital Readmissions Reduction Program With Mortality Among Medicare Beneficiaries Hospitalized for Heart Failure, Acute Myocardial Infarction, and Pneumonia. JAMA. 2018;320(24):2542-2552. doi:10.1001/jama.2018.19232\n",
    "\n",
    "[5] United States Census Bureau (n.d.) Geographic Products Branch U.S. Census Bureau https://www2.census.gov/geo/pdfs/education/CensusTracts.pdf\n",
    "\n",
    "[6] Sommers, B. D., Maylone, B., Blendon, R. J., Orav, E. J., & Epstein, A. M. (2017). Three-Year Impacts Of The Affordable Care Act: Improved Medical Care And Health Among Low-Income Adults. Health Affairs, 36(6), 1119–1128. "
   ]
  }
 ],
 "metadata": {
  "kernelspec": {
   "display_name": "Python 3",
   "language": "python",
   "name": "python3"
  },
  "language_info": {
   "codemirror_mode": {
    "name": "ipython",
    "version": 3
   },
   "file_extension": ".py",
   "mimetype": "text/x-python",
   "name": "python",
   "nbconvert_exporter": "python",
   "pygments_lexer": "ipython3",
   "version": "3.8.8"
  }
 },
 "nbformat": 4,
 "nbformat_minor": 5
}
